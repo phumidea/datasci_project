{
 "metadata": {
  "language_info": {
   "codemirror_mode": {
    "name": "ipython",
    "version": 3
   },
   "file_extension": ".py",
   "mimetype": "text/x-python",
   "name": "python",
   "nbconvert_exporter": "python",
   "pygments_lexer": "ipython3",
   "version": "3.8.5-final"
  },
  "orig_nbformat": 2,
  "kernelspec": {
   "name": "python385jvsc74a57bd01de2c74a76b6cc10f307db951c6bafa277284d6c7320e57b5cfd849253275293",
   "display_name": "Python 3.8.5 64-bit (conda)"
  }
 },
 "nbformat": 4,
 "nbformat_minor": 2,
 "cells": [
  {
   "cell_type": "code",
   "execution_count": 3,
   "metadata": {},
   "outputs": [],
   "source": [
    "import pandas as pd\n",
    "from datetime import datetime, timedelta\n",
    "from time import time\n",
    "import matplotlib.pyplot as plt"
   ]
  },
  {
   "cell_type": "code",
   "execution_count": 4,
   "metadata": {},
   "outputs": [],
   "source": [
    "def pm_data(city):\n",
    "    with open(city) as f:\n",
    "        lines = f.read().splitlines()\n",
    "        \n",
    "    info = lines[:9]\n",
    "    conv = lambda x: (x[0].replace(\"% \",\"\"), [x[1]])\n",
    "    info = dict(conv(i.split(': ')) for i in info)\n",
    "    info_df = pd.DataFrame.from_dict(info)\n",
    "\n",
    "    columns = lines[9].replace(\"% \",\"\").split(\", \")\n",
    "    data = lines[10:]\n",
    "    data = [d.split(\"\\t\") for d in data]\n",
    "    df = pd.DataFrame(data,columns=columns)\n",
    "    datetime_data = pd.to_datetime(dict(year = df.Year, month =df.Month, day = df.Day, hour = df[\"UTC Hour\"])) + timedelta(hours = 7)\n",
    "    df.insert(0, 'datetime', datetime_data)\n",
    "    return info_df,df"
   ]
  },
  {
   "cell_type": "code",
   "execution_count": null,
   "metadata": {},
   "outputs": [],
   "source": [
    "def check_null_all(df):\n",
    "    null_counts = df.isnull().sum()\n",
    "    print(f\"Number of null values in each column:\\n{null_counts}\")"
   ]
  },
  {
   "cell_type": "code",
   "execution_count": null,
   "metadata": {},
   "outputs": [],
   "source": [
    "def check_city_feature_unique(df, headers, city):\n",
    "    print(\"-\"*30)\n",
    "    for header in headers:\n",
    "        print(city + \" \" + header)\n",
    "        print(df[header].unique())\n",
    "        print(\"-\"*30)"
   ]
  },
  {
   "cell_type": "code",
   "execution_count": null,
   "metadata": {},
   "outputs": [],
   "source": [
    "def pm_trend_each_year(df):\n",
    "    years = df[\"Year\"].unique()\n",
    "    month_range = df.groupby('Year').agg({'Month': ['min','max']})\n",
    "    month_range = month_range.to_dict()\n",
    "    for year in years:\n",
    "        df_plot = df[df[\"Year\"] == year].groupby([\"Month\"]).mean()\n",
    "\n",
    "        min_month,max_month = month_range[('Month', 'min')][year],month_range[('Month', 'max')][year]\n",
    "        plt.plot([i for i in range(min_month,max_month + 1)], df_plot[\"PM2.5\"], label = f\"Year {year}\")\n",
    "\n",
    "    plt.legend()\n",
    "    plt.show()"
   ]
  }
 ]
}