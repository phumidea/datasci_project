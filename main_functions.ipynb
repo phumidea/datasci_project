{
 "metadata": {
  "language_info": {
   "codemirror_mode": {
    "name": "ipython",
    "version": 3
   },
   "file_extension": ".py",
   "mimetype": "text/x-python",
   "name": "python",
   "nbconvert_exporter": "python",
   "pygments_lexer": "ipython3",
   "version": "3.8.5-final"
  },
  "orig_nbformat": 2,
  "kernelspec": {
   "name": "python385jvsc74a57bd01de2c74a76b6cc10f307db951c6bafa277284d6c7320e57b5cfd849253275293",
   "display_name": "Python 3.8.5 64-bit (conda)"
  }
 },
 "nbformat": 4,
 "nbformat_minor": 2,
 "cells": [
  {
   "cell_type": "code",
   "execution_count": 3,
   "metadata": {},
   "outputs": [],
   "source": [
    "import pandas as pd\n",
    "from datetime import datetime, timedelta\n",
    "from time import time"
   ]
  },
  {
   "cell_type": "code",
   "execution_count": 1,
   "metadata": {},
   "outputs": [],
   "source": [
    "def show_head_text(fileName, n_line):\n",
    "\n",
    "    f = open(fileName, \"r\")\n",
    "    for i in range(n_line):\n",
    "        print(f.readline())\n",
    "    f.close()"
   ]
  },
  {
   "cell_type": "code",
   "execution_count": 4,
   "metadata": {},
   "outputs": [],
   "source": [
    "def pm_data(city):\n",
    "    with open(city) as f:\n",
    "        lines = f.read().splitlines()\n",
    "        \n",
    "    info = lines[:9]\n",
    "    conv = lambda x: (x[0].replace(\"% \",\"\"), [x[1]])\n",
    "    info = dict(conv(i.split(': ')) for i in info)\n",
    "    info_df = pd.DataFrame.from_dict(info)\n",
    "\n",
    "    columns = lines[9].replace(\"% \",\"\").split(\", \")\n",
    "    data = lines[10:]\n",
    "    data = [d.split(\"\\t\") for d in data]\n",
    "    df = pd.DataFrame(data,columns=columns)\n",
    "    datetime_data = pd.to_datetime(dict(year = df.Year, month =df.Month, day = df.Day, hour = df[\"UTC Hour\"])) + timedelta(hours = 7)\n",
    "    df.insert(0, 'datetime', datetime_data)\n",
    "    return info_df,df"
   ]
  },
  {
   "cell_type": "code",
   "execution_count": null,
   "metadata": {},
   "outputs": [],
   "source": []
  }
 ]
}