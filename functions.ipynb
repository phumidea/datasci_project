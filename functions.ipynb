{
 "metadata": {
  "language_info": {
   "codemirror_mode": {
    "name": "ipython",
    "version": 3
   },
   "file_extension": ".py",
   "mimetype": "text/x-python",
   "name": "python",
   "nbconvert_exporter": "python",
   "pygments_lexer": "ipython3",
   "version": "3.8.5"
  },
  "orig_nbformat": 2,
  "kernelspec": {
   "name": "python385jvsc74a57bd04f88000c8533031533e72db95377eafe47e62948e92f30427c766512767d20f6",
   "display_name": "Python 3.8.5 64-bit ('base': conda)"
  },
  "metadata": {
   "interpreter": {
    "hash": "4f88000c8533031533e72db95377eafe47e62948e92f30427c766512767d20f6"
   }
  }
 },
 "nbformat": 4,
 "nbformat_minor": 2,
 "cells": [
  {
   "cell_type": "code",
   "execution_count": null,
   "metadata": {},
   "outputs": [],
   "source": [
    "import numpy as np\n",
    "import pandas as pd\n",
    "from datetime import datetime, timedelta\n",
    "from time import time\n",
    "import matplotlib.pyplot as plt"
   ]
  },
  {
   "source": [
    "# This is function for project1\n",
    "\n",
    "## 1) Function with white markdown is subfunction\n",
    "## 2) Function with blue markdown is aggregate function from subfunction ([You only need to use function with blue markdown])"
   ],
   "cell_type": "markdown",
   "metadata": {}
  },
  {
   "source": [
    "### show_head_text is function for read txt file and show head -n line"
   ],
   "cell_type": "markdown",
   "metadata": {}
  },
  {
   "cell_type": "code",
   "execution_count": 2,
   "metadata": {},
   "outputs": [],
   "source": [
    "def show_head_text(fileName, n_line):\n",
    "\n",
    "    f = open(fileName, \"r\")\n",
    "    for i in range(n_line):\n",
    "        print(f.readline())\n",
    "    f.close()"
   ]
  },
  {
   "source": [
    "### convert text file to dataframe without any edit format"
   ],
   "cell_type": "markdown",
   "metadata": {}
  },
  {
   "cell_type": "code",
   "execution_count": 3,
   "metadata": {},
   "outputs": [],
   "source": [
    "def txt_to_df(fileName):\n",
    "\n",
    "    f = open(fileName,\"r\")\n",
    "\n",
    "    ### count for determine line\n",
    "    count = 0\n",
    "\n",
    "    # metadata_df = pd.DataFrame(columns = header)\n",
    "    info_data = dict()\n",
    "    for line in f:\n",
    "        count += 1\n",
    "        tmp = line\n",
    "\n",
    "        if count < 10:\n",
    "            head = tmp[2:].split(\":\")[0]\n",
    "            data = tmp[2:].split(\":\")[1][1:-1]\n",
    "            info_data[head] = [data]\n",
    "\n",
    "        ### This line we determine that is header\n",
    "        elif count == 10:\n",
    "\n",
    "            ### We remove \"% \" at first 2 string and split each string \n",
    "            header = tmp[2:].split(\", \")\n",
    "\n",
    "            ### The last word will contains \"\\n\" so we remove it\n",
    "            header[-1] = header[-1][:-1]\n",
    "            \n",
    "            ### Create dataframe to support data will be coming after this line\n",
    "            df = pd.DataFrame(columns = header)\n",
    "\n",
    "        else:\n",
    "            data = tmp.split()\n",
    "            data_df = pd.DataFrame([data], columns = header)\n",
    "            df = df.append(data_df)\n",
    "    \n",
    "    f.close()\n",
    "    \n",
    "    df = df.reset_index().drop(columns = [\"index\"])\n",
    "    info_df = pd.DataFrame.from_dict(info_data)\n",
    "    return info_df, df"
   ]
  },
  {
   "cell_type": "code",
   "execution_count": null,
   "metadata": {},
   "outputs": [],
   "source": []
  },
  {
   "source": [
    "### convert any time unit with len one eg. 7 => 07"
   ],
   "cell_type": "markdown",
   "metadata": {}
  },
  {
   "cell_type": "code",
   "execution_count": 35,
   "metadata": {},
   "outputs": [],
   "source": [
    "def make_len2(time):\n",
    "    if len(time) == 1:\n",
    "        time = \"0\" + time\n",
    "    return time"
   ]
  },
  {
   "source": [
    "### convert all specfic headers to len 2 by use make_len2"
   ],
   "cell_type": "markdown",
   "metadata": {}
  },
  {
   "cell_type": "code",
   "execution_count": 36,
   "metadata": {},
   "outputs": [],
   "source": [
    "def all_make_len2(df, headers):\n",
    "\n",
    "    for header in headers:  \n",
    "        df[header] = df[header].apply(lambda x: make_len2(x))\n",
    "    return df"
   ]
  },
  {
   "source": [
    "### create datetime columns by input specific (eg. hour, month ,day, utc hour)"
   ],
   "cell_type": "markdown",
   "metadata": {}
  },
  {
   "cell_type": "code",
   "execution_count": null,
   "metadata": {},
   "outputs": [],
   "source": [
    "def create_datetime(df, headers, string_format):\n",
    "    df[\"datestr\"] = \"\"\n",
    "    for header in headers:\n",
    "        df[\"datestr\"] += df[header]\n",
    "    df[\"datetime\"] = pd.to_datetime(df[\"datestr\"], format=string_format)\n",
    "    return df"
   ]
  },
  {
   "source": [
    "### Shift datetime to specific utc"
   ],
   "cell_type": "markdown",
   "metadata": {}
  },
  {
   "cell_type": "code",
   "execution_count": null,
   "metadata": {},
   "outputs": [],
   "source": [
    "def shiftTime(hour):\n",
    "    df[\"datetime\"] = df[\"datetime\"] + timedelta(hours=hour)\n",
    "    df[\"UTC Hour\"] = df[\"UTC Hour\"] + hour\n",
    "    return df[\"datetime\"]"
   ]
  },
  {
   "source": [
    "## [Use this function to convert txt file to dataframe with datetime]"
   ],
   "cell_type": "markdown",
   "metadata": {}
  },
  {
   "cell_type": "code",
   "execution_count": null,
   "metadata": {},
   "outputs": [],
   "source": [
    "def txt_to_df_with_shift_datetime(fileName):\n",
    "\n",
    "    info_df, df = txt_to_df(fileName)\n",
    "    header_to_numeric = [\"PM2.5\", \"PM10_mask\", \"Retrospective\"]\n",
    "    for header in header_to_numeric:\n",
    "        df[header] = pd.to_numeric(df[header])\n",
    "    df = all_make_len2(df, [\"Month\", \"Day\", \"UTC Hour\"])\n",
    "    df = create_datetime(df, [\"Year\",\"Month\",\"Day\",\"UTC Hour\"], \"%Y%m%d%H\")\n",
    "    df.drop(columns = [\"datestr\"], inplace = True)\n",
    "    df[\"datetime\"] = df[\"datetime\"] + timedelta(hours=7)\n",
    "    \n",
    "    return info_df, df"
   ]
  },
  {
   "source": [
    "### check datetime value is out of range or not"
   ],
   "cell_type": "markdown",
   "metadata": {}
  },
  {
   "cell_type": "code",
   "execution_count": null,
   "metadata": {},
   "outputs": [],
   "source": [
    "def check_city_feature_unique(df, headers, city):\n",
    "    print(\"-\"*30)\n",
    "    for header in headers:\n",
    "        print(city + \" \" + header)\n",
    "        print(df[header].unique())\n",
    "        print(\"-\"*30)"
   ]
  },
  {
   "source": [
    "### Check null value all columns in dataframe"
   ],
   "cell_type": "markdown",
   "metadata": {}
  },
  {
   "cell_type": "code",
   "execution_count": null,
   "metadata": {},
   "outputs": [],
   "source": [
    "def check_null_all(df):\n",
    "    null_counts = df.isnull().sum()\n",
    "    print(\"Number of null values in each column:\\n{}\".format(null_counts))"
   ]
  },
  {
   "source": [
    "### Extract date from datetime(string type) => Wind dataframe"
   ],
   "cell_type": "markdown",
   "metadata": {}
  },
  {
   "source": [
    "def extract_date_string(df):    \n",
    "    df[\"Year\"] = df[\"datetime\"].apply(lambda x: int(x[:4]))\n",
    "    df[\"Month\"] = df[\"datetime\"].apply(lambda x: int(x[5:7]))\n",
    "    df[\"Day\"] = df[\"datetime\"].apply(lambda x: int(x[8:10]))\n",
    "    df[\"UTC Hour\"] = df[\"datetime\"].apply(lambda x: int(x[11:13]))\n",
    "    return df"
   ],
   "cell_type": "code",
   "metadata": {},
   "execution_count": null,
   "outputs": []
  }
 ]
}