{
 "metadata": {
  "language_info": {
   "codemirror_mode": {
    "name": "ipython",
    "version": 3
   },
   "file_extension": ".py",
   "mimetype": "text/x-python",
   "name": "python",
   "nbconvert_exporter": "python",
   "pygments_lexer": "ipython3",
   "version": "3.8.5-final"
  },
  "orig_nbformat": 2,
  "kernelspec": {
   "name": "python385jvsc74a57bd01de2c74a76b6cc10f307db951c6bafa277284d6c7320e57b5cfd849253275293",
   "display_name": "Python 3.8.5 64-bit (conda)"
  }
 },
 "nbformat": 4,
 "nbformat_minor": 2,
 "cells": [
  {
   "cell_type": "code",
   "execution_count": 191,
   "metadata": {},
   "outputs": [],
   "source": [
    "%run -i main_functions.ipynb"
   ]
  },
  {
   "cell_type": "code",
   "execution_count": 195,
   "metadata": {},
   "outputs": [
    {
     "output_type": "stream",
     "name": "stdout",
     "text": [
      "Bangkok Finish\n",
      "Elapsed time = 0.4356963634490967\n",
      "Chanthaburi Finish\n",
      "Elapsed time = 0.5180263519287109\n",
      "Chiang Mai Finish\n",
      "Elapsed time = 0.7441811561584473\n",
      "Kanchanaburi Finish\n",
      "Elapsed time = 0.46473169326782227\n",
      "Khon Kaen Finish\n",
      "Elapsed time = 0.30422282218933105\n",
      "Songkhla Finish\n",
      "Elapsed time = 0.4662928581237793\n"
     ]
    }
   ],
   "source": [
    "cities = [\"Bangkok\",\"Chanthaburi\",\"Chiang Mai\",\"Kanchanaburi\",\"Khon Kaen\",\"Songkhla\"]\n",
    "paths = [\"PM2.5_kaggle 2021/\"+city+\"/Train/\"+\"_\".join(city.split(\" \"))+\".txt\" for city in cities]\n",
    "\n",
    "for city,path in zip(cities, paths):\n",
    "    start = time()\n",
    "    info_df,df = pm_data(path)\n",
    "\n",
    "    info_df.to_csv(\"raw_pm2.5_df/\"+city+\"_info.csv\", index = False, encoding = \"UTF-8\")\n",
    "    df.to_csv(\"raw_pm2.5_df/\"+city+\".csv\", index = False, encoding = \"UTF-8\")\n",
    "    end = time()\n",
    "    elapsed_time = str(end-start)\n",
    "    print(city + \" Finish\")\n",
    "    print(\"Elapsed time = \" + elapsed_time)"
   ]
  },
  {
   "cell_type": "code",
   "execution_count": null,
   "metadata": {},
   "outputs": [],
   "source": []
  },
  {
   "cell_type": "code",
   "execution_count": 185,
   "metadata": {},
   "outputs": [
    {
     "output_type": "execute_result",
     "data": {
      "text/plain": [
       "                 datetime  Year Month Day UTC Hour PM2.5 PM10_mask  \\\n",
       "0     2016-03-03 15:00:00  2016     3   3        8  65.2      1.00   \n",
       "1     2016-03-03 16:00:00  2016     3   3        9  65.2      1.00   \n",
       "2     2016-03-03 17:00:00  2016     3   3       10  64.9      1.00   \n",
       "3     2016-03-03 18:00:00  2016     3   3       11  64.9      1.00   \n",
       "4     2016-03-03 19:00:00  2016     3   3       12  38.4      1.00   \n",
       "...                   ...   ...   ...  ..      ...   ...       ...   \n",
       "24381 2019-03-18 02:00:00  2019     3  17       19  40.5      0.00   \n",
       "24382 2019-03-18 03:00:00  2019     3  17       20  43.2      0.00   \n",
       "24383 2019-03-18 04:00:00  2019     3  17       21  46.9      0.00   \n",
       "24384 2019-03-18 05:00:00  2019     3  17       22  46.3      0.00   \n",
       "24385 2019-03-18 06:00:00  2019     3  17       23  48.3      0.00   \n",
       "\n",
       "      Retrospective  \n",
       "0                 0  \n",
       "1                 0  \n",
       "2                 0  \n",
       "3                 0  \n",
       "4                 0  \n",
       "...             ...  \n",
       "24381             0  \n",
       "24382             0  \n",
       "24383             0  \n",
       "24384             0  \n",
       "24385             0  \n",
       "\n",
       "[24386 rows x 8 columns]"
      ],
      "text/html": "<div>\n<style scoped>\n    .dataframe tbody tr th:only-of-type {\n        vertical-align: middle;\n    }\n\n    .dataframe tbody tr th {\n        vertical-align: top;\n    }\n\n    .dataframe thead th {\n        text-align: right;\n    }\n</style>\n<table border=\"1\" class=\"dataframe\">\n  <thead>\n    <tr style=\"text-align: right;\">\n      <th></th>\n      <th>datetime</th>\n      <th>Year</th>\n      <th>Month</th>\n      <th>Day</th>\n      <th>UTC Hour</th>\n      <th>PM2.5</th>\n      <th>PM10_mask</th>\n      <th>Retrospective</th>\n    </tr>\n  </thead>\n  <tbody>\n    <tr>\n      <th>0</th>\n      <td>2016-03-03 15:00:00</td>\n      <td>2016</td>\n      <td>3</td>\n      <td>3</td>\n      <td>8</td>\n      <td>65.2</td>\n      <td>1.00</td>\n      <td>0</td>\n    </tr>\n    <tr>\n      <th>1</th>\n      <td>2016-03-03 16:00:00</td>\n      <td>2016</td>\n      <td>3</td>\n      <td>3</td>\n      <td>9</td>\n      <td>65.2</td>\n      <td>1.00</td>\n      <td>0</td>\n    </tr>\n    <tr>\n      <th>2</th>\n      <td>2016-03-03 17:00:00</td>\n      <td>2016</td>\n      <td>3</td>\n      <td>3</td>\n      <td>10</td>\n      <td>64.9</td>\n      <td>1.00</td>\n      <td>0</td>\n    </tr>\n    <tr>\n      <th>3</th>\n      <td>2016-03-03 18:00:00</td>\n      <td>2016</td>\n      <td>3</td>\n      <td>3</td>\n      <td>11</td>\n      <td>64.9</td>\n      <td>1.00</td>\n      <td>0</td>\n    </tr>\n    <tr>\n      <th>4</th>\n      <td>2016-03-03 19:00:00</td>\n      <td>2016</td>\n      <td>3</td>\n      <td>3</td>\n      <td>12</td>\n      <td>38.4</td>\n      <td>1.00</td>\n      <td>0</td>\n    </tr>\n    <tr>\n      <th>...</th>\n      <td>...</td>\n      <td>...</td>\n      <td>...</td>\n      <td>...</td>\n      <td>...</td>\n      <td>...</td>\n      <td>...</td>\n      <td>...</td>\n    </tr>\n    <tr>\n      <th>24381</th>\n      <td>2019-03-18 02:00:00</td>\n      <td>2019</td>\n      <td>3</td>\n      <td>17</td>\n      <td>19</td>\n      <td>40.5</td>\n      <td>0.00</td>\n      <td>0</td>\n    </tr>\n    <tr>\n      <th>24382</th>\n      <td>2019-03-18 03:00:00</td>\n      <td>2019</td>\n      <td>3</td>\n      <td>17</td>\n      <td>20</td>\n      <td>43.2</td>\n      <td>0.00</td>\n      <td>0</td>\n    </tr>\n    <tr>\n      <th>24383</th>\n      <td>2019-03-18 04:00:00</td>\n      <td>2019</td>\n      <td>3</td>\n      <td>17</td>\n      <td>21</td>\n      <td>46.9</td>\n      <td>0.00</td>\n      <td>0</td>\n    </tr>\n    <tr>\n      <th>24384</th>\n      <td>2019-03-18 05:00:00</td>\n      <td>2019</td>\n      <td>3</td>\n      <td>17</td>\n      <td>22</td>\n      <td>46.3</td>\n      <td>0.00</td>\n      <td>0</td>\n    </tr>\n    <tr>\n      <th>24385</th>\n      <td>2019-03-18 06:00:00</td>\n      <td>2019</td>\n      <td>3</td>\n      <td>17</td>\n      <td>23</td>\n      <td>48.3</td>\n      <td>0.00</td>\n      <td>0</td>\n    </tr>\n  </tbody>\n</table>\n<p>24386 rows × 8 columns</p>\n</div>"
     },
     "metadata": {},
     "execution_count": 185
    }
   ],
   "source": [
    "info_df,df = pm_data(cities[3])\n",
    "df"
   ]
  },
  {
   "cell_type": "code",
   "execution_count": 176,
   "metadata": {},
   "outputs": [],
   "source": [
    "#info = {k:v for line in info for k,v in line.split(\": \")}\n",
    "#info = {k[0]:k[1] for line in info for k in line.split(\": \")}\n",
    "#info = {[0]:[1] for line in info }\n",
    "\n",
    "#info = dict(i.split(\": \") for i in info)\n",
    "\n",
    "conv = lambda x: (x[0].replace(\"% \",\"\"), [x[1]])\n",
    "info = dict(conv(i.split(': ')) for i in info)"
   ]
  },
  {
   "cell_type": "code",
   "execution_count": 177,
   "metadata": {},
   "outputs": [
    {
     "output_type": "execute_result",
     "data": {
      "text/plain": [
       "    Country          City  City (ASCII)        Region Region (ASCII)  \\\n",
       "0  Thailand  Kanchanaburi  Kanchanaburi  Kanchanaburi   Kanchanaburi   \n",
       "\n",
       "  Population Latitude Longitude     Time Zone  \n",
       "0      63699  14.0041   99.5483  Asia/Bangkok  "
      ],
      "text/html": "<div>\n<style scoped>\n    .dataframe tbody tr th:only-of-type {\n        vertical-align: middle;\n    }\n\n    .dataframe tbody tr th {\n        vertical-align: top;\n    }\n\n    .dataframe thead th {\n        text-align: right;\n    }\n</style>\n<table border=\"1\" class=\"dataframe\">\n  <thead>\n    <tr style=\"text-align: right;\">\n      <th></th>\n      <th>Country</th>\n      <th>City</th>\n      <th>City (ASCII)</th>\n      <th>Region</th>\n      <th>Region (ASCII)</th>\n      <th>Population</th>\n      <th>Latitude</th>\n      <th>Longitude</th>\n      <th>Time Zone</th>\n    </tr>\n  </thead>\n  <tbody>\n    <tr>\n      <th>0</th>\n      <td>Thailand</td>\n      <td>Kanchanaburi</td>\n      <td>Kanchanaburi</td>\n      <td>Kanchanaburi</td>\n      <td>Kanchanaburi</td>\n      <td>63699</td>\n      <td>14.0041</td>\n      <td>99.5483</td>\n      <td>Asia/Bangkok</td>\n    </tr>\n  </tbody>\n</table>\n</div>"
     },
     "metadata": {},
     "execution_count": 177
    }
   ],
   "source": [
    "info_df = pd.DataFrame.from_dict(info)\n",
    "info_df"
   ]
  },
  {
   "cell_type": "code",
   "execution_count": 178,
   "metadata": {},
   "outputs": [],
   "source": [
    "info_df.to_csv(\"df_info.csv\", index = False, encoding = \"UTF-8\")"
   ]
  },
  {
   "cell_type": "code",
   "execution_count": 180,
   "metadata": {},
   "outputs": [
    {
     "output_type": "stream",
     "name": "stdout",
     "text": [
      "<class 'pandas.core.frame.DataFrame'>\nRangeIndex: 1 entries, 0 to 0\nData columns (total 9 columns):\n #   Column          Non-Null Count  Dtype  \n---  ------          --------------  -----  \n 0   Country         1 non-null      object \n 1   City            1 non-null      object \n 2   City (ASCII)    1 non-null      object \n 3   Region          1 non-null      object \n 4   Region (ASCII)  1 non-null      object \n 5   Population      1 non-null      int64  \n 6   Latitude        1 non-null      float64\n 7   Longitude       1 non-null      float64\n 8   Time Zone       1 non-null      object \ndtypes: float64(2), int64(1), object(6)\nmemory usage: 200.0+ bytes\n"
     ]
    }
   ],
   "source": [
    "test_info_df = pd.read_csv(\"df_info.csv\")\n",
    "test_info_df.info()"
   ]
  },
  {
   "cell_type": "code",
   "execution_count": 132,
   "metadata": {},
   "outputs": [
    {
     "output_type": "error",
     "ename": "TypeError",
     "evalue": "cannot unpack non-iterable int object",
     "traceback": [
      "\u001b[1;31m---------------------------------------------------------------------------\u001b[0m",
      "\u001b[1;31mTypeError\u001b[0m                                 Traceback (most recent call last)",
      "\u001b[1;32m<ipython-input-132-a43bd725c4bc>\u001b[0m in \u001b[0;36m<module>\u001b[1;34m\u001b[0m\n\u001b[0;32m      2\u001b[0m \u001b[0mline\u001b[0m\u001b[1;33m.\u001b[0m\u001b[0msplit\u001b[0m\u001b[1;33m(\u001b[0m\u001b[1;34m\":\"\u001b[0m\u001b[1;33m)\u001b[0m\u001b[1;33m\u001b[0m\u001b[1;33m\u001b[0m\u001b[0m\n\u001b[0;32m      3\u001b[0m \u001b[0ma\u001b[0m \u001b[1;33m=\u001b[0m \u001b[1;33m[\u001b[0m\u001b[1;33m[\u001b[0m\u001b[1;36m1\u001b[0m\u001b[1;33m,\u001b[0m\u001b[1;36m2\u001b[0m\u001b[1;33m]\u001b[0m\u001b[1;33m,\u001b[0m\u001b[1;33m[\u001b[0m\u001b[1;36m3\u001b[0m\u001b[1;33m,\u001b[0m\u001b[1;36m4\u001b[0m\u001b[1;33m]\u001b[0m\u001b[1;33m,\u001b[0m\u001b[1;33m[\u001b[0m\u001b[1;36m5\u001b[0m\u001b[1;33m,\u001b[0m\u001b[1;36m6\u001b[0m\u001b[1;33m]\u001b[0m\u001b[1;33m]\u001b[0m\u001b[1;33m\u001b[0m\u001b[1;33m\u001b[0m\u001b[0m\n\u001b[1;32m----> 4\u001b[1;33m \u001b[0mb\u001b[0m \u001b[1;33m=\u001b[0m \u001b[1;33m{\u001b[0m\u001b[0mk\u001b[0m\u001b[1;33m:\u001b[0m\u001b[0mv\u001b[0m \u001b[1;32mfor\u001b[0m \u001b[0mt\u001b[0m \u001b[1;32min\u001b[0m \u001b[0ma\u001b[0m \u001b[1;32mfor\u001b[0m \u001b[0mk\u001b[0m\u001b[1;33m,\u001b[0m\u001b[0mv\u001b[0m \u001b[1;32min\u001b[0m \u001b[0mt\u001b[0m\u001b[1;33m}\u001b[0m\u001b[1;33m\u001b[0m\u001b[1;33m\u001b[0m\u001b[0m\n\u001b[0m",
      "\u001b[1;32m<ipython-input-132-a43bd725c4bc>\u001b[0m in \u001b[0;36m<dictcomp>\u001b[1;34m(.0)\u001b[0m\n\u001b[0;32m      2\u001b[0m \u001b[0mline\u001b[0m\u001b[1;33m.\u001b[0m\u001b[0msplit\u001b[0m\u001b[1;33m(\u001b[0m\u001b[1;34m\":\"\u001b[0m\u001b[1;33m)\u001b[0m\u001b[1;33m\u001b[0m\u001b[1;33m\u001b[0m\u001b[0m\n\u001b[0;32m      3\u001b[0m \u001b[0ma\u001b[0m \u001b[1;33m=\u001b[0m \u001b[1;33m[\u001b[0m\u001b[1;33m[\u001b[0m\u001b[1;36m1\u001b[0m\u001b[1;33m,\u001b[0m\u001b[1;36m2\u001b[0m\u001b[1;33m]\u001b[0m\u001b[1;33m,\u001b[0m\u001b[1;33m[\u001b[0m\u001b[1;36m3\u001b[0m\u001b[1;33m,\u001b[0m\u001b[1;36m4\u001b[0m\u001b[1;33m]\u001b[0m\u001b[1;33m,\u001b[0m\u001b[1;33m[\u001b[0m\u001b[1;36m5\u001b[0m\u001b[1;33m,\u001b[0m\u001b[1;36m6\u001b[0m\u001b[1;33m]\u001b[0m\u001b[1;33m]\u001b[0m\u001b[1;33m\u001b[0m\u001b[1;33m\u001b[0m\u001b[0m\n\u001b[1;32m----> 4\u001b[1;33m \u001b[0mb\u001b[0m \u001b[1;33m=\u001b[0m \u001b[1;33m{\u001b[0m\u001b[0mk\u001b[0m\u001b[1;33m:\u001b[0m\u001b[0mv\u001b[0m \u001b[1;32mfor\u001b[0m \u001b[0mt\u001b[0m \u001b[1;32min\u001b[0m \u001b[0ma\u001b[0m \u001b[1;32mfor\u001b[0m \u001b[0mk\u001b[0m\u001b[1;33m,\u001b[0m\u001b[0mv\u001b[0m \u001b[1;32min\u001b[0m \u001b[0mt\u001b[0m\u001b[1;33m}\u001b[0m\u001b[1;33m\u001b[0m\u001b[1;33m\u001b[0m\u001b[0m\n\u001b[0m",
      "\u001b[1;31mTypeError\u001b[0m: cannot unpack non-iterable int object"
     ]
    }
   ],
   "source": [
    "line = info[0]\n",
    "line.split(\":\")\n",
    "a = [[1,2],[3,4],[5,6]]\n",
    "b = {k:v for t in a for k,v in t}"
   ]
  },
  {
   "cell_type": "code",
   "execution_count": 101,
   "metadata": {},
   "outputs": [
    {
     "output_type": "stream",
     "name": "stdout",
     "text": [
      "<class 'pandas.core.frame.DataFrame'>\nRangeIndex: 24386 entries, 0 to 24385\nData columns (total 7 columns):\n #   Column         Non-Null Count  Dtype \n---  ------         --------------  ----- \n 0   Year           24386 non-null  object\n 1   Month          24386 non-null  object\n 2   Day            24386 non-null  object\n 3   UTC Hour       24386 non-null  object\n 4   PM2.5          24386 non-null  object\n 5   PM10_mask      24386 non-null  object\n 6   Retrospective  24386 non-null  object\ndtypes: object(7)\nmemory usage: 1.3+ MB\n"
     ]
    }
   ],
   "source": [
    "df.info()"
   ]
  },
  {
   "cell_type": "code",
   "execution_count": 105,
   "metadata": {},
   "outputs": [
    {
     "output_type": "error",
     "ename": "ValueError",
     "evalue": "extra keys have been passed to the datetime assemblage: [UTC Hour]",
     "traceback": [
      "\u001b[1;31m---------------------------------------------------------------------------\u001b[0m",
      "\u001b[1;31mValueError\u001b[0m                                Traceback (most recent call last)",
      "\u001b[1;32m<ipython-input-105-68a35b4a3b04>\u001b[0m in \u001b[0;36m<module>\u001b[1;34m\u001b[0m\n\u001b[1;32m----> 1\u001b[1;33m \u001b[0mpd\u001b[0m\u001b[1;33m.\u001b[0m\u001b[0mto_datetime\u001b[0m\u001b[1;33m(\u001b[0m\u001b[0mdf\u001b[0m\u001b[1;33m[\u001b[0m\u001b[1;33m[\u001b[0m\u001b[1;34m'Year'\u001b[0m\u001b[1;33m,\u001b[0m \u001b[1;34m'Month'\u001b[0m\u001b[1;33m,\u001b[0m \u001b[1;34m'Day'\u001b[0m\u001b[1;33m,\u001b[0m\u001b[1;34m'UTC Hour'\u001b[0m\u001b[1;33m]\u001b[0m\u001b[1;33m]\u001b[0m\u001b[1;33m)\u001b[0m\u001b[1;33m\u001b[0m\u001b[1;33m\u001b[0m\u001b[0m\n\u001b[0m",
      "\u001b[1;32m~\\anaconda3\\lib\\site-packages\\pandas\\core\\tools\\datetimes.py\u001b[0m in \u001b[0;36mto_datetime\u001b[1;34m(arg, errors, dayfirst, yearfirst, utc, format, exact, unit, infer_datetime_format, origin, cache)\u001b[0m\n\u001b[0;32m    804\u001b[0m             \u001b[0mresult\u001b[0m \u001b[1;33m=\u001b[0m \u001b[0marg\u001b[0m\u001b[1;33m.\u001b[0m\u001b[0m_constructor\u001b[0m\u001b[1;33m(\u001b[0m\u001b[0mvalues\u001b[0m\u001b[1;33m,\u001b[0m \u001b[0mindex\u001b[0m\u001b[1;33m=\u001b[0m\u001b[0marg\u001b[0m\u001b[1;33m.\u001b[0m\u001b[0mindex\u001b[0m\u001b[1;33m,\u001b[0m \u001b[0mname\u001b[0m\u001b[1;33m=\u001b[0m\u001b[0marg\u001b[0m\u001b[1;33m.\u001b[0m\u001b[0mname\u001b[0m\u001b[1;33m)\u001b[0m\u001b[1;33m\u001b[0m\u001b[1;33m\u001b[0m\u001b[0m\n\u001b[0;32m    805\u001b[0m     \u001b[1;32melif\u001b[0m \u001b[0misinstance\u001b[0m\u001b[1;33m(\u001b[0m\u001b[0marg\u001b[0m\u001b[1;33m,\u001b[0m \u001b[1;33m(\u001b[0m\u001b[0mABCDataFrame\u001b[0m\u001b[1;33m,\u001b[0m \u001b[0mabc\u001b[0m\u001b[1;33m.\u001b[0m\u001b[0mMutableMapping\u001b[0m\u001b[1;33m)\u001b[0m\u001b[1;33m)\u001b[0m\u001b[1;33m:\u001b[0m\u001b[1;33m\u001b[0m\u001b[1;33m\u001b[0m\u001b[0m\n\u001b[1;32m--> 806\u001b[1;33m         \u001b[0mresult\u001b[0m \u001b[1;33m=\u001b[0m \u001b[0m_assemble_from_unit_mappings\u001b[0m\u001b[1;33m(\u001b[0m\u001b[0marg\u001b[0m\u001b[1;33m,\u001b[0m \u001b[0merrors\u001b[0m\u001b[1;33m,\u001b[0m \u001b[0mtz\u001b[0m\u001b[1;33m)\u001b[0m\u001b[1;33m\u001b[0m\u001b[1;33m\u001b[0m\u001b[0m\n\u001b[0m\u001b[0;32m    807\u001b[0m     \u001b[1;32melif\u001b[0m \u001b[0misinstance\u001b[0m\u001b[1;33m(\u001b[0m\u001b[0marg\u001b[0m\u001b[1;33m,\u001b[0m \u001b[0mIndex\u001b[0m\u001b[1;33m)\u001b[0m\u001b[1;33m:\u001b[0m\u001b[1;33m\u001b[0m\u001b[1;33m\u001b[0m\u001b[0m\n\u001b[0;32m    808\u001b[0m         \u001b[0mcache_array\u001b[0m \u001b[1;33m=\u001b[0m \u001b[0m_maybe_cache\u001b[0m\u001b[1;33m(\u001b[0m\u001b[0marg\u001b[0m\u001b[1;33m,\u001b[0m \u001b[0mformat\u001b[0m\u001b[1;33m,\u001b[0m \u001b[0mcache\u001b[0m\u001b[1;33m,\u001b[0m \u001b[0mconvert_listlike\u001b[0m\u001b[1;33m)\u001b[0m\u001b[1;33m\u001b[0m\u001b[1;33m\u001b[0m\u001b[0m\n",
      "\u001b[1;32m~\\anaconda3\\lib\\site-packages\\pandas\\core\\tools\\datetimes.py\u001b[0m in \u001b[0;36m_assemble_from_unit_mappings\u001b[1;34m(arg, errors, tz)\u001b[0m\n\u001b[0;32m    912\u001b[0m     \u001b[1;32mif\u001b[0m \u001b[0mlen\u001b[0m\u001b[1;33m(\u001b[0m\u001b[0mexcess\u001b[0m\u001b[1;33m)\u001b[0m\u001b[1;33m:\u001b[0m\u001b[1;33m\u001b[0m\u001b[1;33m\u001b[0m\u001b[0m\n\u001b[0;32m    913\u001b[0m         \u001b[0m_excess\u001b[0m \u001b[1;33m=\u001b[0m \u001b[1;34m\",\"\u001b[0m\u001b[1;33m.\u001b[0m\u001b[0mjoin\u001b[0m\u001b[1;33m(\u001b[0m\u001b[0mexcess\u001b[0m\u001b[1;33m)\u001b[0m\u001b[1;33m\u001b[0m\u001b[1;33m\u001b[0m\u001b[0m\n\u001b[1;32m--> 914\u001b[1;33m         raise ValueError(\n\u001b[0m\u001b[0;32m    915\u001b[0m             \u001b[1;34mf\"extra keys have been passed to the datetime assemblage: [{_excess}]\"\u001b[0m\u001b[1;33m\u001b[0m\u001b[1;33m\u001b[0m\u001b[0m\n\u001b[0;32m    916\u001b[0m         )\n",
      "\u001b[1;31mValueError\u001b[0m: extra keys have been passed to the datetime assemblage: [UTC Hour]"
     ]
    }
   ],
   "source": [
    "pd.to_datetime(df[['Year', 'Month', 'Day','UTC Hour']])"
   ]
  },
  {
   "cell_type": "code",
   "execution_count": 111,
   "metadata": {},
   "outputs": [
    {
     "output_type": "execute_result",
     "data": {
      "text/plain": [
       "0       2016-03-03 08:00:00\n",
       "1       2016-03-03 09:00:00\n",
       "2       2016-03-03 10:00:00\n",
       "3       2016-03-03 11:00:00\n",
       "4       2016-03-03 12:00:00\n",
       "                ...        \n",
       "24381   2019-03-17 19:00:00\n",
       "24382   2019-03-17 20:00:00\n",
       "24383   2019-03-17 21:00:00\n",
       "24384   2019-03-17 22:00:00\n",
       "24385   2019-03-17 23:00:00\n",
       "Length: 24386, dtype: datetime64[ns]"
      ]
     },
     "metadata": {},
     "execution_count": 111
    }
   ],
   "source": [
    "pd.to_datetime(dict(year = df.Year, month =df.Month, day = df.Day, hour = df[\"UTC Hour\"]))"
   ]
  },
  {
   "cell_type": "code",
   "execution_count": 110,
   "metadata": {},
   "outputs": [
    {
     "output_type": "execute_result",
     "data": {
      "text/plain": [
       "0        2016\n",
       "1        2016\n",
       "2        2016\n",
       "3        2016\n",
       "4        2016\n",
       "         ... \n",
       "24381    2019\n",
       "24382    2019\n",
       "24383    2019\n",
       "24384    2019\n",
       "24385    2019\n",
       "Name: Year, Length: 24386, dtype: object"
      ]
     },
     "metadata": {},
     "execution_count": 110
    }
   ],
   "source": []
  },
  {
   "cell_type": "code",
   "execution_count": 71,
   "metadata": {
    "tags": []
   },
   "outputs": [],
   "source": [
    "\n",
    "info,columns,data = pm_data(cities[3])\n",
    "# i = 0\n",
    "\n",
    "# for d in data:\n",
    "#     if  i == 10:\n",
    "#         break\n",
    "#     #d = d.split(\"\\t\")\n",
    "#     d[3] = int(d[3])+7\n",
    "#     print(d)\n",
    "#     i+=1\n",
    "\n",
    "# i=0\n",
    "# print(\"\\n\")\n",
    "# while(i<10):\n",
    "#     print(data[i])\n",
    "#     i+=1"
   ]
  },
  {
   "cell_type": "code",
   "execution_count": 53,
   "metadata": {},
   "outputs": [
    {
     "output_type": "execute_result",
     "data": {
      "text/plain": [
       "'2016\\t3\\t3\\t8\\t44.2\\t1.00\\t0'"
      ]
     },
     "metadata": {},
     "execution_count": 53
    }
   ],
   "source": [
    "data[0]"
   ]
  },
  {
   "cell_type": "code",
   "execution_count": null,
   "metadata": {},
   "outputs": [],
   "source": []
  }
 ]
}