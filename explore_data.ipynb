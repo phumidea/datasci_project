{
 "metadata": {
  "language_info": {
   "codemirror_mode": {
    "name": "ipython",
    "version": 3
   },
   "file_extension": ".py",
   "mimetype": "text/x-python",
   "name": "python",
   "nbconvert_exporter": "python",
   "pygments_lexer": "ipython3",
   "version": "3.8.5"
  },
  "orig_nbformat": 2,
  "kernelspec": {
   "name": "python385jvsc74a57bd04f88000c8533031533e72db95377eafe47e62948e92f30427c766512767d20f6",
   "display_name": "Python 3.8.5 64-bit ('base': conda)"
  },
  "metadata": {
   "interpreter": {
    "hash": "4f88000c8533031533e72db95377eafe47e62948e92f30427c766512767d20f6"
   }
  }
 },
 "nbformat": 4,
 "nbformat_minor": 2,
 "cells": [
  {
   "source": [
    "# Read PM2.5 from txt file\n",
    "### First we gonna looki for some information inside file"
   ],
   "cell_type": "markdown",
   "metadata": {}
  },
  {
   "cell_type": "code",
   "execution_count": 88,
   "metadata": {},
   "outputs": [],
   "source": [
    "def show_text(fileName, n_line):\n",
    "    f = open(fileName, \"r\")\n",
    "    for i in range(n_line):\n",
    "        print(f.readline())\n",
    "    f.close()"
   ]
  },
  {
   "cell_type": "code",
   "execution_count": 89,
   "metadata": {},
   "outputs": [
    {
     "output_type": "stream",
     "name": "stdout",
     "text": [
      "% Country: Thailand\n\n% City: Bangkok\n\n% City (ASCII): Bangkok\n\n% Region: Bangkok\n\n% Region (ASCII): Bangkok\n\n% Population: 5104476\n\n% Latitude: 13.754\n\n% Longitude: 100.5014\n\n% Time Zone: Asia/Bangkok\n\n% Year, Month, Day, UTC Hour, PM2.5, PM10_mask, Retrospective\n\n2016\t3\t3\t8\t62.9\t1.00\t0\n\n2016\t3\t3\t9\t62.9\t1.00\t0\n\n2016\t3\t3\t10\t55.5\t1.00\t0\n\n2016\t3\t3\t11\t55.5\t1.00\t0\n\n2016\t3\t3\t12\t47.9\t1.00\t0\n\n2016\t3\t3\t13\t43.6\t1.00\t0\n\n2016\t3\t3\t14\t28.6\t1.00\t0\n\n2016\t3\t3\t15\t33.6\t1.00\t0\n\n2016\t3\t3\t16\t34.8\t1.00\t0\n\n2016\t3\t3\t17\t31.3\t1.00\t0\n\n"
     ]
    }
   ],
   "source": [
    "show_text(\"PM2.5_kaggle 2021/Bangkok/Train/Bangkok.txt\",20)"
   ]
  },
  {
   "cell_type": "code",
   "execution_count": 90,
   "metadata": {},
   "outputs": [
    {
     "output_type": "stream",
     "name": "stdout",
     "text": [
      "% Country: Thailand\n\n% City: Chanthaburi\n\n% City (ASCII): Chanthaburi\n\n% Region: Chanthaburi\n\n% Region (ASCII): Chanthaburi\n\n% Population: 99819\n\n% Latitude: 12.6096\n\n% Longitude: 102.1045\n\n% Time Zone: Asia/Bangkok\n\n% Year, Month, Day, UTC Hour, PM2.5, PM10_mask, Retrospective\n\n2016\t3\t3\t8\t44.2\t1.00\t0\n\n2016\t3\t3\t9\t44.2\t1.00\t0\n\n2016\t3\t3\t10\t44.3\t1.00\t0\n\n2016\t3\t3\t11\t44.2\t1.00\t0\n\n2016\t3\t3\t12\t34.2\t1.00\t0\n\n2016\t3\t3\t13\t34.6\t1.00\t0\n\n2016\t3\t3\t14\t31.0\t1.00\t0\n\n2016\t3\t3\t15\t31.6\t1.00\t0\n\n2016\t3\t3\t16\t30.1\t1.00\t0\n\n2016\t3\t3\t17\t45.5\t1.00\t0\n\n"
     ]
    }
   ],
   "source": [
    "show_text(\"PM2.5_kaggle 2021/Chanthaburi/Train/Chanthaburi.txt\",20)"
   ]
  },
  {
   "source": [
    "# Convert text to Dataframe"
   ],
   "cell_type": "markdown",
   "metadata": {}
  },
  {
   "cell_type": "code",
   "execution_count": 91,
   "metadata": {},
   "outputs": [],
   "source": [
    "import numpy as np\n",
    "import pandas as pd"
   ]
  },
  {
   "cell_type": "code",
   "execution_count": 92,
   "metadata": {},
   "outputs": [],
   "source": [
    "def txt_to_df(fileName):\n",
    "\n",
    "    ### Open file named \"fileName\"\n",
    "    f = open(fileName,\"r\")\n",
    "\n",
    "    ### count for check line number for decision making\n",
    "    count = 0\n",
    "\n",
    "    ### for each line in fileName ###\n",
    "    for line in f:\n",
    "\n",
    "        ### tmp represents each line in fileName depends on count\n",
    "        tmp = line\n",
    "\n",
    "        ### When count == 9 that is header we will use that for columns name in dataframe\n",
    "        if count == 9:\n",
    "\n",
    "            ### We remove \"% \" at first 2 string and split each string \n",
    "            header = tmp[2:].split(\", \")\n",
    "\n",
    "            ### The last word will contains \"\\n\" so we remove it\n",
    "            header[-1] = header[-1][:-1]\n",
    "\n",
    "            ### Create dataframe to support data will be coming after this line\n",
    "            df = pd.DataFrame(columns = header)\n",
    "\n",
    "        ### After this line will be only content in dataframe\n",
    "        elif count > 9:\n",
    "\n",
    "            ### Split file as list\n",
    "            data = tmp.split()\n",
    "\n",
    "            ### Create data as dataframe\n",
    "            data_df = pd.DataFrame([data], columns = header)\n",
    "\n",
    "            ### Append data each line to dataframe we gonna use it for output\n",
    "            df = df.append(data_df)\n",
    "\n",
    "        ### Increment count for known line number\n",
    "        count += 1\n",
    "    f.close()\n",
    "    \n",
    "    df = df.reset_index().drop(columns = [\"index\"])\n",
    "    return df"
   ]
  },
  {
   "cell_type": "code",
   "execution_count": 93,
   "metadata": {},
   "outputs": [],
   "source": [
    "df = txt_to_df(\"PM2.5_kaggle 2021/Bangkok/Train/Bangkok.txt\")"
   ]
  },
  {
   "cell_type": "code",
   "execution_count": 94,
   "metadata": {},
   "outputs": [
    {
     "output_type": "execute_result",
     "data": {
      "text/plain": [
       "       Year Month Day UTC Hour PM2.5 PM10_mask Retrospective\n",
       "0      2016     3   3        8  62.9      1.00             0\n",
       "1      2016     3   3        9  62.9      1.00             0\n",
       "2      2016     3   3       10  55.5      1.00             0\n",
       "3      2016     3   3       11  55.5      1.00             0\n",
       "4      2016     3   3       12  47.9      1.00             0\n",
       "...     ...   ...  ..      ...   ...       ...           ...\n",
       "24388  2019     3  17       19  42.2      0.00             0\n",
       "24389  2019     3  17       20  41.2      0.00             0\n",
       "24390  2019     3  17       21  37.7      0.00             0\n",
       "24391  2019     3  17       22  39.0      0.00             0\n",
       "24392  2019     3  17       23  38.9      0.00             0\n",
       "\n",
       "[24393 rows x 7 columns]"
      ],
      "text/html": "<div>\n<style scoped>\n    .dataframe tbody tr th:only-of-type {\n        vertical-align: middle;\n    }\n\n    .dataframe tbody tr th {\n        vertical-align: top;\n    }\n\n    .dataframe thead th {\n        text-align: right;\n    }\n</style>\n<table border=\"1\" class=\"dataframe\">\n  <thead>\n    <tr style=\"text-align: right;\">\n      <th></th>\n      <th>Year</th>\n      <th>Month</th>\n      <th>Day</th>\n      <th>UTC Hour</th>\n      <th>PM2.5</th>\n      <th>PM10_mask</th>\n      <th>Retrospective</th>\n    </tr>\n  </thead>\n  <tbody>\n    <tr>\n      <th>0</th>\n      <td>2016</td>\n      <td>3</td>\n      <td>3</td>\n      <td>8</td>\n      <td>62.9</td>\n      <td>1.00</td>\n      <td>0</td>\n    </tr>\n    <tr>\n      <th>1</th>\n      <td>2016</td>\n      <td>3</td>\n      <td>3</td>\n      <td>9</td>\n      <td>62.9</td>\n      <td>1.00</td>\n      <td>0</td>\n    </tr>\n    <tr>\n      <th>2</th>\n      <td>2016</td>\n      <td>3</td>\n      <td>3</td>\n      <td>10</td>\n      <td>55.5</td>\n      <td>1.00</td>\n      <td>0</td>\n    </tr>\n    <tr>\n      <th>3</th>\n      <td>2016</td>\n      <td>3</td>\n      <td>3</td>\n      <td>11</td>\n      <td>55.5</td>\n      <td>1.00</td>\n      <td>0</td>\n    </tr>\n    <tr>\n      <th>4</th>\n      <td>2016</td>\n      <td>3</td>\n      <td>3</td>\n      <td>12</td>\n      <td>47.9</td>\n      <td>1.00</td>\n      <td>0</td>\n    </tr>\n    <tr>\n      <th>...</th>\n      <td>...</td>\n      <td>...</td>\n      <td>...</td>\n      <td>...</td>\n      <td>...</td>\n      <td>...</td>\n      <td>...</td>\n    </tr>\n    <tr>\n      <th>24388</th>\n      <td>2019</td>\n      <td>3</td>\n      <td>17</td>\n      <td>19</td>\n      <td>42.2</td>\n      <td>0.00</td>\n      <td>0</td>\n    </tr>\n    <tr>\n      <th>24389</th>\n      <td>2019</td>\n      <td>3</td>\n      <td>17</td>\n      <td>20</td>\n      <td>41.2</td>\n      <td>0.00</td>\n      <td>0</td>\n    </tr>\n    <tr>\n      <th>24390</th>\n      <td>2019</td>\n      <td>3</td>\n      <td>17</td>\n      <td>21</td>\n      <td>37.7</td>\n      <td>0.00</td>\n      <td>0</td>\n    </tr>\n    <tr>\n      <th>24391</th>\n      <td>2019</td>\n      <td>3</td>\n      <td>17</td>\n      <td>22</td>\n      <td>39.0</td>\n      <td>0.00</td>\n      <td>0</td>\n    </tr>\n    <tr>\n      <th>24392</th>\n      <td>2019</td>\n      <td>3</td>\n      <td>17</td>\n      <td>23</td>\n      <td>38.9</td>\n      <td>0.00</td>\n      <td>0</td>\n    </tr>\n  </tbody>\n</table>\n<p>24393 rows × 7 columns</p>\n</div>"
     },
     "metadata": {},
     "execution_count": 94
    }
   ],
   "source": [
    "df"
   ]
  },
  {
   "cell_type": "code",
   "execution_count": 95,
   "metadata": {},
   "outputs": [
    {
     "output_type": "stream",
     "name": "stdout",
     "text": [
      "<class 'pandas.core.frame.DataFrame'>\nRangeIndex: 24393 entries, 0 to 24392\nData columns (total 7 columns):\n #   Column         Non-Null Count  Dtype \n---  ------         --------------  ----- \n 0   Year           24393 non-null  object\n 1   Month          24393 non-null  object\n 2   Day            24393 non-null  object\n 3   UTC Hour       24393 non-null  object\n 4   PM2.5          24393 non-null  object\n 5   PM10_mask      24393 non-null  object\n 6   Retrospective  24393 non-null  object\ndtypes: object(7)\nmemory usage: 1.3+ MB\n"
     ]
    }
   ],
   "source": [
    "df.info()"
   ]
  },
  {
   "source": [
    "## Change value each header to numeric"
   ],
   "cell_type": "markdown",
   "metadata": {}
  },
  {
   "cell_type": "code",
   "execution_count": 96,
   "metadata": {},
   "outputs": [
    {
     "output_type": "stream",
     "name": "stdout",
     "text": [
      "<class 'pandas.core.frame.DataFrame'>\nRangeIndex: 24393 entries, 0 to 24392\nData columns (total 7 columns):\n #   Column         Non-Null Count  Dtype  \n---  ------         --------------  -----  \n 0   Year           24393 non-null  object \n 1   Month          24393 non-null  object \n 2   Day            24393 non-null  object \n 3   UTC Hour       24393 non-null  object \n 4   PM2.5          24393 non-null  float64\n 5   PM10_mask      24393 non-null  float64\n 6   Retrospective  24393 non-null  int64  \ndtypes: float64(2), int64(1), object(4)\nmemory usage: 1.3+ MB\n"
     ]
    }
   ],
   "source": [
    "header_to_numeric = [\"PM2.5\", \"PM10_mask\", \"Retrospective\"]\n",
    "for header in header_to_numeric:\n",
    "    df[header] = pd.to_numeric(df[header])\n",
    "df.info()"
   ]
  },
  {
   "source": [
    "## Convert revelant date columns to datetime"
   ],
   "cell_type": "markdown",
   "metadata": {}
  },
  {
   "cell_type": "code",
   "execution_count": 105,
   "metadata": {},
   "outputs": [],
   "source": [
    "from datetime import datetime, timedelta"
   ]
  },
  {
   "cell_type": "code",
   "execution_count": 103,
   "metadata": {},
   "outputs": [],
   "source": [
    "def make_len2(time):\n",
    "    if len(time) == 1:\n",
    "        time = \"0\" + time\n",
    "    return time\n",
    "\n",
    "def all_make_len2(df):\n",
    "    df[\"Month\"] = df[\"Month\"].apply(lambda x: make_len2(x))\n",
    "    df[\"Day\"] = df[\"Day\"].apply(lambda x: make_len2(x))\n",
    "    df[\"UTC Hour\"] = df[\"UTC Hour\"].apply(lambda x: make_len2(x))\n",
    "    return df\n",
    "\n",
    "def create_datetime(df):\n",
    "    df[\"datestr\"] = df[\"Year\"]+df[\"Month\"]+df[\"Day\"]+df[\"UTC Hour\"]\n",
    "    df[\"datetime\"] = pd.to_datetime(df[\"datestr\"], format=\"%Y%m%d%H\")\n",
    "    return df"
   ]
  },
  {
   "cell_type": "code",
   "execution_count": 106,
   "metadata": {},
   "outputs": [
    {
     "output_type": "execute_result",
     "data": {
      "text/plain": [
       "       Year Month Day UTC Hour  PM2.5  PM10_mask  Retrospective     datestr  \\\n",
       "0      2016    03  03       08   62.9        1.0              0  2016030308   \n",
       "1      2016    03  03       09   62.9        1.0              0  2016030309   \n",
       "2      2016    03  03       10   55.5        1.0              0  2016030310   \n",
       "3      2016    03  03       11   55.5        1.0              0  2016030311   \n",
       "4      2016    03  03       12   47.9        1.0              0  2016030312   \n",
       "...     ...   ...  ..      ...    ...        ...            ...         ...   \n",
       "24388  2019    03  17       19   42.2        0.0              0  2019031719   \n",
       "24389  2019    03  17       20   41.2        0.0              0  2019031720   \n",
       "24390  2019    03  17       21   37.7        0.0              0  2019031721   \n",
       "24391  2019    03  17       22   39.0        0.0              0  2019031722   \n",
       "24392  2019    03  17       23   38.9        0.0              0  2019031723   \n",
       "\n",
       "                 datetime  \n",
       "0     2016-03-03 15:00:00  \n",
       "1     2016-03-03 16:00:00  \n",
       "2     2016-03-03 17:00:00  \n",
       "3     2016-03-03 18:00:00  \n",
       "4     2016-03-03 19:00:00  \n",
       "...                   ...  \n",
       "24388 2019-03-18 02:00:00  \n",
       "24389 2019-03-18 03:00:00  \n",
       "24390 2019-03-18 04:00:00  \n",
       "24391 2019-03-18 05:00:00  \n",
       "24392 2019-03-18 06:00:00  \n",
       "\n",
       "[24393 rows x 9 columns]"
      ],
      "text/html": "<div>\n<style scoped>\n    .dataframe tbody tr th:only-of-type {\n        vertical-align: middle;\n    }\n\n    .dataframe tbody tr th {\n        vertical-align: top;\n    }\n\n    .dataframe thead th {\n        text-align: right;\n    }\n</style>\n<table border=\"1\" class=\"dataframe\">\n  <thead>\n    <tr style=\"text-align: right;\">\n      <th></th>\n      <th>Year</th>\n      <th>Month</th>\n      <th>Day</th>\n      <th>UTC Hour</th>\n      <th>PM2.5</th>\n      <th>PM10_mask</th>\n      <th>Retrospective</th>\n      <th>datestr</th>\n      <th>datetime</th>\n    </tr>\n  </thead>\n  <tbody>\n    <tr>\n      <th>0</th>\n      <td>2016</td>\n      <td>03</td>\n      <td>03</td>\n      <td>08</td>\n      <td>62.9</td>\n      <td>1.0</td>\n      <td>0</td>\n      <td>2016030308</td>\n      <td>2016-03-03 15:00:00</td>\n    </tr>\n    <tr>\n      <th>1</th>\n      <td>2016</td>\n      <td>03</td>\n      <td>03</td>\n      <td>09</td>\n      <td>62.9</td>\n      <td>1.0</td>\n      <td>0</td>\n      <td>2016030309</td>\n      <td>2016-03-03 16:00:00</td>\n    </tr>\n    <tr>\n      <th>2</th>\n      <td>2016</td>\n      <td>03</td>\n      <td>03</td>\n      <td>10</td>\n      <td>55.5</td>\n      <td>1.0</td>\n      <td>0</td>\n      <td>2016030310</td>\n      <td>2016-03-03 17:00:00</td>\n    </tr>\n    <tr>\n      <th>3</th>\n      <td>2016</td>\n      <td>03</td>\n      <td>03</td>\n      <td>11</td>\n      <td>55.5</td>\n      <td>1.0</td>\n      <td>0</td>\n      <td>2016030311</td>\n      <td>2016-03-03 18:00:00</td>\n    </tr>\n    <tr>\n      <th>4</th>\n      <td>2016</td>\n      <td>03</td>\n      <td>03</td>\n      <td>12</td>\n      <td>47.9</td>\n      <td>1.0</td>\n      <td>0</td>\n      <td>2016030312</td>\n      <td>2016-03-03 19:00:00</td>\n    </tr>\n    <tr>\n      <th>...</th>\n      <td>...</td>\n      <td>...</td>\n      <td>...</td>\n      <td>...</td>\n      <td>...</td>\n      <td>...</td>\n      <td>...</td>\n      <td>...</td>\n      <td>...</td>\n    </tr>\n    <tr>\n      <th>24388</th>\n      <td>2019</td>\n      <td>03</td>\n      <td>17</td>\n      <td>19</td>\n      <td>42.2</td>\n      <td>0.0</td>\n      <td>0</td>\n      <td>2019031719</td>\n      <td>2019-03-18 02:00:00</td>\n    </tr>\n    <tr>\n      <th>24389</th>\n      <td>2019</td>\n      <td>03</td>\n      <td>17</td>\n      <td>20</td>\n      <td>41.2</td>\n      <td>0.0</td>\n      <td>0</td>\n      <td>2019031720</td>\n      <td>2019-03-18 03:00:00</td>\n    </tr>\n    <tr>\n      <th>24390</th>\n      <td>2019</td>\n      <td>03</td>\n      <td>17</td>\n      <td>21</td>\n      <td>37.7</td>\n      <td>0.0</td>\n      <td>0</td>\n      <td>2019031721</td>\n      <td>2019-03-18 04:00:00</td>\n    </tr>\n    <tr>\n      <th>24391</th>\n      <td>2019</td>\n      <td>03</td>\n      <td>17</td>\n      <td>22</td>\n      <td>39.0</td>\n      <td>0.0</td>\n      <td>0</td>\n      <td>2019031722</td>\n      <td>2019-03-18 05:00:00</td>\n    </tr>\n    <tr>\n      <th>24392</th>\n      <td>2019</td>\n      <td>03</td>\n      <td>17</td>\n      <td>23</td>\n      <td>38.9</td>\n      <td>0.0</td>\n      <td>0</td>\n      <td>2019031723</td>\n      <td>2019-03-18 06:00:00</td>\n    </tr>\n  </tbody>\n</table>\n<p>24393 rows × 9 columns</p>\n</div>"
     },
     "metadata": {},
     "execution_count": 106
    }
   ],
   "source": [
    "df = all_make_len2(df)\n",
    "df = create_datetime(df)\n",
    "df[\"datetime\"] = df[\"datetime\"] + timedelta(hours=7)\n",
    "df"
   ]
  },
  {
   "source": [
    "## Convert raw to dataframe with correct utc by fileName only"
   ],
   "cell_type": "markdown",
   "metadata": {}
  },
  {
   "cell_type": "code",
   "execution_count": 107,
   "metadata": {},
   "outputs": [],
   "source": [
    "def raw_txt_to_correct_df(fileName):\n",
    "\n",
    "    ########################################################################################\n",
    "    # This function is use for convert raw PM2.5 data from kaggle to dataframe with UTC +7 #\n",
    "    ########################################################################################\n",
    "    \n",
    "    df = txt_to_df(fileName)\n",
    "    header_to_numeric = [\"PM2.5\", \"PM10_mask\", \"Retrospective\"]\n",
    "    for header in header_to_numeric:\n",
    "        df[header] = pd.to_numeric(df[header])\n",
    "    df = all_make_len2(df)\n",
    "    df = create_datetime(df)\n",
    "    df[\"datetime\"] = df[\"datetime\"] + timedelta(hours=7)\n",
    "    return df"
   ]
  },
  {
   "cell_type": "code",
   "execution_count": 109,
   "metadata": {},
   "outputs": [
    {
     "output_type": "execute_result",
     "data": {
      "text/plain": [
       "       Year Month Day UTC Hour  PM2.5  PM10_mask  Retrospective     datestr  \\\n",
       "0      2016    03  03       08   62.9        1.0              0  2016030308   \n",
       "1      2016    03  03       09   62.9        1.0              0  2016030309   \n",
       "2      2016    03  03       10   55.5        1.0              0  2016030310   \n",
       "3      2016    03  03       11   55.5        1.0              0  2016030311   \n",
       "4      2016    03  03       12   47.9        1.0              0  2016030312   \n",
       "...     ...   ...  ..      ...    ...        ...            ...         ...   \n",
       "24388  2019    03  17       19   42.2        0.0              0  2019031719   \n",
       "24389  2019    03  17       20   41.2        0.0              0  2019031720   \n",
       "24390  2019    03  17       21   37.7        0.0              0  2019031721   \n",
       "24391  2019    03  17       22   39.0        0.0              0  2019031722   \n",
       "24392  2019    03  17       23   38.9        0.0              0  2019031723   \n",
       "\n",
       "                 datetime  \n",
       "0     2016-03-03 15:00:00  \n",
       "1     2016-03-03 16:00:00  \n",
       "2     2016-03-03 17:00:00  \n",
       "3     2016-03-03 18:00:00  \n",
       "4     2016-03-03 19:00:00  \n",
       "...                   ...  \n",
       "24388 2019-03-18 02:00:00  \n",
       "24389 2019-03-18 03:00:00  \n",
       "24390 2019-03-18 04:00:00  \n",
       "24391 2019-03-18 05:00:00  \n",
       "24392 2019-03-18 06:00:00  \n",
       "\n",
       "[24393 rows x 9 columns]"
      ],
      "text/html": "<div>\n<style scoped>\n    .dataframe tbody tr th:only-of-type {\n        vertical-align: middle;\n    }\n\n    .dataframe tbody tr th {\n        vertical-align: top;\n    }\n\n    .dataframe thead th {\n        text-align: right;\n    }\n</style>\n<table border=\"1\" class=\"dataframe\">\n  <thead>\n    <tr style=\"text-align: right;\">\n      <th></th>\n      <th>Year</th>\n      <th>Month</th>\n      <th>Day</th>\n      <th>UTC Hour</th>\n      <th>PM2.5</th>\n      <th>PM10_mask</th>\n      <th>Retrospective</th>\n      <th>datestr</th>\n      <th>datetime</th>\n    </tr>\n  </thead>\n  <tbody>\n    <tr>\n      <th>0</th>\n      <td>2016</td>\n      <td>03</td>\n      <td>03</td>\n      <td>08</td>\n      <td>62.9</td>\n      <td>1.0</td>\n      <td>0</td>\n      <td>2016030308</td>\n      <td>2016-03-03 15:00:00</td>\n    </tr>\n    <tr>\n      <th>1</th>\n      <td>2016</td>\n      <td>03</td>\n      <td>03</td>\n      <td>09</td>\n      <td>62.9</td>\n      <td>1.0</td>\n      <td>0</td>\n      <td>2016030309</td>\n      <td>2016-03-03 16:00:00</td>\n    </tr>\n    <tr>\n      <th>2</th>\n      <td>2016</td>\n      <td>03</td>\n      <td>03</td>\n      <td>10</td>\n      <td>55.5</td>\n      <td>1.0</td>\n      <td>0</td>\n      <td>2016030310</td>\n      <td>2016-03-03 17:00:00</td>\n    </tr>\n    <tr>\n      <th>3</th>\n      <td>2016</td>\n      <td>03</td>\n      <td>03</td>\n      <td>11</td>\n      <td>55.5</td>\n      <td>1.0</td>\n      <td>0</td>\n      <td>2016030311</td>\n      <td>2016-03-03 18:00:00</td>\n    </tr>\n    <tr>\n      <th>4</th>\n      <td>2016</td>\n      <td>03</td>\n      <td>03</td>\n      <td>12</td>\n      <td>47.9</td>\n      <td>1.0</td>\n      <td>0</td>\n      <td>2016030312</td>\n      <td>2016-03-03 19:00:00</td>\n    </tr>\n    <tr>\n      <th>...</th>\n      <td>...</td>\n      <td>...</td>\n      <td>...</td>\n      <td>...</td>\n      <td>...</td>\n      <td>...</td>\n      <td>...</td>\n      <td>...</td>\n      <td>...</td>\n    </tr>\n    <tr>\n      <th>24388</th>\n      <td>2019</td>\n      <td>03</td>\n      <td>17</td>\n      <td>19</td>\n      <td>42.2</td>\n      <td>0.0</td>\n      <td>0</td>\n      <td>2019031719</td>\n      <td>2019-03-18 02:00:00</td>\n    </tr>\n    <tr>\n      <th>24389</th>\n      <td>2019</td>\n      <td>03</td>\n      <td>17</td>\n      <td>20</td>\n      <td>41.2</td>\n      <td>0.0</td>\n      <td>0</td>\n      <td>2019031720</td>\n      <td>2019-03-18 03:00:00</td>\n    </tr>\n    <tr>\n      <th>24390</th>\n      <td>2019</td>\n      <td>03</td>\n      <td>17</td>\n      <td>21</td>\n      <td>37.7</td>\n      <td>0.0</td>\n      <td>0</td>\n      <td>2019031721</td>\n      <td>2019-03-18 04:00:00</td>\n    </tr>\n    <tr>\n      <th>24391</th>\n      <td>2019</td>\n      <td>03</td>\n      <td>17</td>\n      <td>22</td>\n      <td>39.0</td>\n      <td>0.0</td>\n      <td>0</td>\n      <td>2019031722</td>\n      <td>2019-03-18 05:00:00</td>\n    </tr>\n    <tr>\n      <th>24392</th>\n      <td>2019</td>\n      <td>03</td>\n      <td>17</td>\n      <td>23</td>\n      <td>38.9</td>\n      <td>0.0</td>\n      <td>0</td>\n      <td>2019031723</td>\n      <td>2019-03-18 06:00:00</td>\n    </tr>\n  </tbody>\n</table>\n<p>24393 rows × 9 columns</p>\n</div>"
     },
     "metadata": {},
     "execution_count": 109
    }
   ],
   "source": [
    "df = raw_txt_to_correct_df(\"PM2.5_kaggle 2021/Bangkok/Train/Bangkok.txt\")\n",
    "df"
   ]
  },
  {
   "source": [
    "# Wind"
   ],
   "cell_type": "markdown",
   "metadata": {}
  },
  {
   "cell_type": "code",
   "execution_count": 11,
   "metadata": {},
   "outputs": [
    {
     "output_type": "execute_result",
     "data": {
      "text/plain": [
       "               datetime  WindDir  Wind Speed(km/h)     lat      long\n",
       "0   2016-03-03 01:00:00       45                13  13.754  100.5014\n",
       "1   2016-03-03 04:00:00       60                11  13.754  100.5014\n",
       "2   2016-03-03 07:00:00       65                15  13.754  100.5014\n",
       "3   2016-03-03 10:00:00       75                13  13.754  100.5014\n",
       "4   2016-03-03 13:00:00       70                12  13.754  100.5014\n",
       "5   2016-03-03 16:00:00       60                12  13.754  100.5014\n",
       "6   2016-03-03 19:00:00       70                11  13.754  100.5014\n",
       "7   2016-03-03 22:00:00       70                15  13.754  100.5014\n",
       "8   2016-03-04 01:00:00       95                13  13.754  100.5014\n",
       "9   2016-03-04 04:00:00      115                11  13.754  100.5014\n",
       "10  2016-03-04 07:00:00       95                12  13.754  100.5014\n",
       "11  2016-03-04 10:00:00      105                13  13.754  100.5014\n",
       "12  2016-03-04 13:00:00      115                10  13.754  100.5014\n",
       "13  2016-03-04 16:00:00       90                 7  13.754  100.5014\n",
       "14  2016-03-04 19:00:00       75                13  13.754  100.5014\n",
       "15  2016-03-04 22:00:00       90                14  13.754  100.5014\n",
       "16  2016-03-05 01:00:00      110                13  13.754  100.5014\n",
       "17  2016-03-05 04:00:00      130                10  13.754  100.5014\n",
       "18  2016-03-05 07:00:00      145                17  13.754  100.5014\n",
       "19  2016-03-05 10:00:00      140                16  13.754  100.5014"
      ],
      "text/html": "<div>\n<style scoped>\n    .dataframe tbody tr th:only-of-type {\n        vertical-align: middle;\n    }\n\n    .dataframe tbody tr th {\n        vertical-align: top;\n    }\n\n    .dataframe thead th {\n        text-align: right;\n    }\n</style>\n<table border=\"1\" class=\"dataframe\">\n  <thead>\n    <tr style=\"text-align: right;\">\n      <th></th>\n      <th>datetime</th>\n      <th>WindDir</th>\n      <th>Wind Speed(km/h)</th>\n      <th>lat</th>\n      <th>long</th>\n    </tr>\n  </thead>\n  <tbody>\n    <tr>\n      <th>0</th>\n      <td>2016-03-03 01:00:00</td>\n      <td>45</td>\n      <td>13</td>\n      <td>13.754</td>\n      <td>100.5014</td>\n    </tr>\n    <tr>\n      <th>1</th>\n      <td>2016-03-03 04:00:00</td>\n      <td>60</td>\n      <td>11</td>\n      <td>13.754</td>\n      <td>100.5014</td>\n    </tr>\n    <tr>\n      <th>2</th>\n      <td>2016-03-03 07:00:00</td>\n      <td>65</td>\n      <td>15</td>\n      <td>13.754</td>\n      <td>100.5014</td>\n    </tr>\n    <tr>\n      <th>3</th>\n      <td>2016-03-03 10:00:00</td>\n      <td>75</td>\n      <td>13</td>\n      <td>13.754</td>\n      <td>100.5014</td>\n    </tr>\n    <tr>\n      <th>4</th>\n      <td>2016-03-03 13:00:00</td>\n      <td>70</td>\n      <td>12</td>\n      <td>13.754</td>\n      <td>100.5014</td>\n    </tr>\n    <tr>\n      <th>5</th>\n      <td>2016-03-03 16:00:00</td>\n      <td>60</td>\n      <td>12</td>\n      <td>13.754</td>\n      <td>100.5014</td>\n    </tr>\n    <tr>\n      <th>6</th>\n      <td>2016-03-03 19:00:00</td>\n      <td>70</td>\n      <td>11</td>\n      <td>13.754</td>\n      <td>100.5014</td>\n    </tr>\n    <tr>\n      <th>7</th>\n      <td>2016-03-03 22:00:00</td>\n      <td>70</td>\n      <td>15</td>\n      <td>13.754</td>\n      <td>100.5014</td>\n    </tr>\n    <tr>\n      <th>8</th>\n      <td>2016-03-04 01:00:00</td>\n      <td>95</td>\n      <td>13</td>\n      <td>13.754</td>\n      <td>100.5014</td>\n    </tr>\n    <tr>\n      <th>9</th>\n      <td>2016-03-04 04:00:00</td>\n      <td>115</td>\n      <td>11</td>\n      <td>13.754</td>\n      <td>100.5014</td>\n    </tr>\n    <tr>\n      <th>10</th>\n      <td>2016-03-04 07:00:00</td>\n      <td>95</td>\n      <td>12</td>\n      <td>13.754</td>\n      <td>100.5014</td>\n    </tr>\n    <tr>\n      <th>11</th>\n      <td>2016-03-04 10:00:00</td>\n      <td>105</td>\n      <td>13</td>\n      <td>13.754</td>\n      <td>100.5014</td>\n    </tr>\n    <tr>\n      <th>12</th>\n      <td>2016-03-04 13:00:00</td>\n      <td>115</td>\n      <td>10</td>\n      <td>13.754</td>\n      <td>100.5014</td>\n    </tr>\n    <tr>\n      <th>13</th>\n      <td>2016-03-04 16:00:00</td>\n      <td>90</td>\n      <td>7</td>\n      <td>13.754</td>\n      <td>100.5014</td>\n    </tr>\n    <tr>\n      <th>14</th>\n      <td>2016-03-04 19:00:00</td>\n      <td>75</td>\n      <td>13</td>\n      <td>13.754</td>\n      <td>100.5014</td>\n    </tr>\n    <tr>\n      <th>15</th>\n      <td>2016-03-04 22:00:00</td>\n      <td>90</td>\n      <td>14</td>\n      <td>13.754</td>\n      <td>100.5014</td>\n    </tr>\n    <tr>\n      <th>16</th>\n      <td>2016-03-05 01:00:00</td>\n      <td>110</td>\n      <td>13</td>\n      <td>13.754</td>\n      <td>100.5014</td>\n    </tr>\n    <tr>\n      <th>17</th>\n      <td>2016-03-05 04:00:00</td>\n      <td>130</td>\n      <td>10</td>\n      <td>13.754</td>\n      <td>100.5014</td>\n    </tr>\n    <tr>\n      <th>18</th>\n      <td>2016-03-05 07:00:00</td>\n      <td>145</td>\n      <td>17</td>\n      <td>13.754</td>\n      <td>100.5014</td>\n    </tr>\n    <tr>\n      <th>19</th>\n      <td>2016-03-05 10:00:00</td>\n      <td>140</td>\n      <td>16</td>\n      <td>13.754</td>\n      <td>100.5014</td>\n    </tr>\n  </tbody>\n</table>\n</div>"
     },
     "metadata": {},
     "execution_count": 11
    }
   ],
   "source": [
    "pd.read_csv(\"PM2.5_kaggle 2021/Bangkok/Train/3H_wind_Bangkok.csv\").head(20)"
   ]
  },
  {
   "source": [
    "# Temperature"
   ],
   "cell_type": "markdown",
   "metadata": {}
  },
  {
   "cell_type": "code",
   "execution_count": 10,
   "metadata": {},
   "outputs": [
    {
     "output_type": "execute_result",
     "data": {
      "text/plain": [
       "               datetime  Temp(C)     lat      long\n",
       "0   2016-03-03 01:00:00     25.5  13.754  100.5014\n",
       "1   2016-03-03 04:00:00     25.0  13.754  100.5014\n",
       "2   2016-03-03 07:00:00     26.4  13.754  100.5014\n",
       "3   2016-03-03 10:00:00     31.4  13.754  100.5014\n",
       "4   2016-03-03 13:00:00     34.1  13.754  100.5014\n",
       "5   2016-03-03 16:00:00     34.6  13.754  100.5014\n",
       "6   2016-03-03 19:00:00     29.1  13.754  100.5014\n",
       "7   2016-03-03 22:00:00     27.3  13.754  100.5014\n",
       "8   2016-03-04 01:00:00     26.5  13.754  100.5014\n",
       "9   2016-03-04 04:00:00     25.8  13.754  100.5014\n",
       "10  2016-03-04 07:00:00     26.1  13.754  100.5014\n",
       "11  2016-03-04 10:00:00     30.7  13.754  100.5014\n",
       "12  2016-03-04 13:00:00     32.9  13.754  100.5014\n",
       "13  2016-03-04 16:00:00     33.2  13.754  100.5014\n",
       "14  2016-03-04 19:00:00     28.3  13.754  100.5014\n",
       "15  2016-03-04 22:00:00     27.6  13.754  100.5014\n",
       "16  2016-03-05 01:00:00     26.9  13.754  100.5014\n",
       "17  2016-03-05 04:00:00     26.3  13.754  100.5014\n",
       "18  2016-03-05 07:00:00     26.6  13.754  100.5014\n",
       "19  2016-03-05 10:00:00     31.4  13.754  100.5014"
      ],
      "text/html": "<div>\n<style scoped>\n    .dataframe tbody tr th:only-of-type {\n        vertical-align: middle;\n    }\n\n    .dataframe tbody tr th {\n        vertical-align: top;\n    }\n\n    .dataframe thead th {\n        text-align: right;\n    }\n</style>\n<table border=\"1\" class=\"dataframe\">\n  <thead>\n    <tr style=\"text-align: right;\">\n      <th></th>\n      <th>datetime</th>\n      <th>Temp(C)</th>\n      <th>lat</th>\n      <th>long</th>\n    </tr>\n  </thead>\n  <tbody>\n    <tr>\n      <th>0</th>\n      <td>2016-03-03 01:00:00</td>\n      <td>25.5</td>\n      <td>13.754</td>\n      <td>100.5014</td>\n    </tr>\n    <tr>\n      <th>1</th>\n      <td>2016-03-03 04:00:00</td>\n      <td>25.0</td>\n      <td>13.754</td>\n      <td>100.5014</td>\n    </tr>\n    <tr>\n      <th>2</th>\n      <td>2016-03-03 07:00:00</td>\n      <td>26.4</td>\n      <td>13.754</td>\n      <td>100.5014</td>\n    </tr>\n    <tr>\n      <th>3</th>\n      <td>2016-03-03 10:00:00</td>\n      <td>31.4</td>\n      <td>13.754</td>\n      <td>100.5014</td>\n    </tr>\n    <tr>\n      <th>4</th>\n      <td>2016-03-03 13:00:00</td>\n      <td>34.1</td>\n      <td>13.754</td>\n      <td>100.5014</td>\n    </tr>\n    <tr>\n      <th>5</th>\n      <td>2016-03-03 16:00:00</td>\n      <td>34.6</td>\n      <td>13.754</td>\n      <td>100.5014</td>\n    </tr>\n    <tr>\n      <th>6</th>\n      <td>2016-03-03 19:00:00</td>\n      <td>29.1</td>\n      <td>13.754</td>\n      <td>100.5014</td>\n    </tr>\n    <tr>\n      <th>7</th>\n      <td>2016-03-03 22:00:00</td>\n      <td>27.3</td>\n      <td>13.754</td>\n      <td>100.5014</td>\n    </tr>\n    <tr>\n      <th>8</th>\n      <td>2016-03-04 01:00:00</td>\n      <td>26.5</td>\n      <td>13.754</td>\n      <td>100.5014</td>\n    </tr>\n    <tr>\n      <th>9</th>\n      <td>2016-03-04 04:00:00</td>\n      <td>25.8</td>\n      <td>13.754</td>\n      <td>100.5014</td>\n    </tr>\n    <tr>\n      <th>10</th>\n      <td>2016-03-04 07:00:00</td>\n      <td>26.1</td>\n      <td>13.754</td>\n      <td>100.5014</td>\n    </tr>\n    <tr>\n      <th>11</th>\n      <td>2016-03-04 10:00:00</td>\n      <td>30.7</td>\n      <td>13.754</td>\n      <td>100.5014</td>\n    </tr>\n    <tr>\n      <th>12</th>\n      <td>2016-03-04 13:00:00</td>\n      <td>32.9</td>\n      <td>13.754</td>\n      <td>100.5014</td>\n    </tr>\n    <tr>\n      <th>13</th>\n      <td>2016-03-04 16:00:00</td>\n      <td>33.2</td>\n      <td>13.754</td>\n      <td>100.5014</td>\n    </tr>\n    <tr>\n      <th>14</th>\n      <td>2016-03-04 19:00:00</td>\n      <td>28.3</td>\n      <td>13.754</td>\n      <td>100.5014</td>\n    </tr>\n    <tr>\n      <th>15</th>\n      <td>2016-03-04 22:00:00</td>\n      <td>27.6</td>\n      <td>13.754</td>\n      <td>100.5014</td>\n    </tr>\n    <tr>\n      <th>16</th>\n      <td>2016-03-05 01:00:00</td>\n      <td>26.9</td>\n      <td>13.754</td>\n      <td>100.5014</td>\n    </tr>\n    <tr>\n      <th>17</th>\n      <td>2016-03-05 04:00:00</td>\n      <td>26.3</td>\n      <td>13.754</td>\n      <td>100.5014</td>\n    </tr>\n    <tr>\n      <th>18</th>\n      <td>2016-03-05 07:00:00</td>\n      <td>26.6</td>\n      <td>13.754</td>\n      <td>100.5014</td>\n    </tr>\n    <tr>\n      <th>19</th>\n      <td>2016-03-05 10:00:00</td>\n      <td>31.4</td>\n      <td>13.754</td>\n      <td>100.5014</td>\n    </tr>\n  </tbody>\n</table>\n</div>"
     },
     "metadata": {},
     "execution_count": 10
    }
   ],
   "source": [
    "pd.read_csv(\"PM2.5_kaggle 2021/Bangkok/Train/3H_temperature_Bangkok.csv\").head(20)"
   ]
  },
  {
   "source": [
    "# Hotspot"
   ],
   "cell_type": "markdown",
   "metadata": {}
  },
  {
   "cell_type": "code",
   "execution_count": 15,
   "metadata": {},
   "outputs": [
    {
     "output_type": "execute_result",
     "data": {
      "text/plain": [
       "        latitude  longitude  brightness  scan  track    acq_date  acq_time  \\\n",
       "0        -0.8235   133.0450       302.8   1.1    1.0  2019-12-01       130   \n",
       "1        -0.8162   133.0429       312.8   1.1    1.0  2019-12-01       130   \n",
       "2       -12.3706   131.5872       329.4   1.0    1.0  2019-12-01       133   \n",
       "3       -12.3665   131.5595       331.9   1.0    1.0  2019-12-01       133   \n",
       "4       -12.3651   131.5503       331.6   1.0    1.0  2019-12-01       133   \n",
       "...          ...        ...         ...   ...    ...         ...       ...   \n",
       "372769   40.6052   109.6865       304.4   1.0    1.0  2020-07-31      1847   \n",
       "372770   39.4083   110.6341       300.0   1.1    1.0  2020-07-31      1847   \n",
       "372771   39.3870   110.5909       300.1   1.1    1.0  2020-07-31      1847   \n",
       "372772   44.7340    90.2537       304.1   1.3    1.1  2020-07-31      2025   \n",
       "372773   44.7311    90.2693       307.0   1.3    1.1  2020-07-31      2025   \n",
       "\n",
       "       satellite instrument  confidence  version  bright_t31   frp daynight  \\\n",
       "0          Terra      MODIS          33     6.03       280.6   2.5        D   \n",
       "1          Terra      MODIS          65     6.03       285.2   8.8        D   \n",
       "2          Terra      MODIS          30     6.03       298.1  14.8        D   \n",
       "3          Terra      MODIS          58     6.03       305.5  16.9        D   \n",
       "4          Terra      MODIS          48     6.03       304.9  16.0        D   \n",
       "...          ...        ...         ...      ...         ...   ...      ...   \n",
       "372769      Aqua      MODIS          60     6.03       290.9   6.3        N   \n",
       "372770      Aqua      MODIS           5     6.03       284.1   5.1        N   \n",
       "372771      Aqua      MODIS          15     6.03       285.9   4.9        N   \n",
       "372772      Aqua      MODIS          58     6.03       287.6  11.0        N   \n",
       "372773      Aqua      MODIS          70     6.03       288.1  13.5        N   \n",
       "\n",
       "        type  \n",
       "0          0  \n",
       "1          0  \n",
       "2          0  \n",
       "3          0  \n",
       "4          0  \n",
       "...      ...  \n",
       "372769     2  \n",
       "372770     0  \n",
       "372771     0  \n",
       "372772     2  \n",
       "372773     2  \n",
       "\n",
       "[372774 rows x 15 columns]"
      ],
      "text/html": "<div>\n<style scoped>\n    .dataframe tbody tr th:only-of-type {\n        vertical-align: middle;\n    }\n\n    .dataframe tbody tr th {\n        vertical-align: top;\n    }\n\n    .dataframe thead th {\n        text-align: right;\n    }\n</style>\n<table border=\"1\" class=\"dataframe\">\n  <thead>\n    <tr style=\"text-align: right;\">\n      <th></th>\n      <th>latitude</th>\n      <th>longitude</th>\n      <th>brightness</th>\n      <th>scan</th>\n      <th>track</th>\n      <th>acq_date</th>\n      <th>acq_time</th>\n      <th>satellite</th>\n      <th>instrument</th>\n      <th>confidence</th>\n      <th>version</th>\n      <th>bright_t31</th>\n      <th>frp</th>\n      <th>daynight</th>\n      <th>type</th>\n    </tr>\n  </thead>\n  <tbody>\n    <tr>\n      <th>0</th>\n      <td>-0.8235</td>\n      <td>133.0450</td>\n      <td>302.8</td>\n      <td>1.1</td>\n      <td>1.0</td>\n      <td>2019-12-01</td>\n      <td>130</td>\n      <td>Terra</td>\n      <td>MODIS</td>\n      <td>33</td>\n      <td>6.03</td>\n      <td>280.6</td>\n      <td>2.5</td>\n      <td>D</td>\n      <td>0</td>\n    </tr>\n    <tr>\n      <th>1</th>\n      <td>-0.8162</td>\n      <td>133.0429</td>\n      <td>312.8</td>\n      <td>1.1</td>\n      <td>1.0</td>\n      <td>2019-12-01</td>\n      <td>130</td>\n      <td>Terra</td>\n      <td>MODIS</td>\n      <td>65</td>\n      <td>6.03</td>\n      <td>285.2</td>\n      <td>8.8</td>\n      <td>D</td>\n      <td>0</td>\n    </tr>\n    <tr>\n      <th>2</th>\n      <td>-12.3706</td>\n      <td>131.5872</td>\n      <td>329.4</td>\n      <td>1.0</td>\n      <td>1.0</td>\n      <td>2019-12-01</td>\n      <td>133</td>\n      <td>Terra</td>\n      <td>MODIS</td>\n      <td>30</td>\n      <td>6.03</td>\n      <td>298.1</td>\n      <td>14.8</td>\n      <td>D</td>\n      <td>0</td>\n    </tr>\n    <tr>\n      <th>3</th>\n      <td>-12.3665</td>\n      <td>131.5595</td>\n      <td>331.9</td>\n      <td>1.0</td>\n      <td>1.0</td>\n      <td>2019-12-01</td>\n      <td>133</td>\n      <td>Terra</td>\n      <td>MODIS</td>\n      <td>58</td>\n      <td>6.03</td>\n      <td>305.5</td>\n      <td>16.9</td>\n      <td>D</td>\n      <td>0</td>\n    </tr>\n    <tr>\n      <th>4</th>\n      <td>-12.3651</td>\n      <td>131.5503</td>\n      <td>331.6</td>\n      <td>1.0</td>\n      <td>1.0</td>\n      <td>2019-12-01</td>\n      <td>133</td>\n      <td>Terra</td>\n      <td>MODIS</td>\n      <td>48</td>\n      <td>6.03</td>\n      <td>304.9</td>\n      <td>16.0</td>\n      <td>D</td>\n      <td>0</td>\n    </tr>\n    <tr>\n      <th>...</th>\n      <td>...</td>\n      <td>...</td>\n      <td>...</td>\n      <td>...</td>\n      <td>...</td>\n      <td>...</td>\n      <td>...</td>\n      <td>...</td>\n      <td>...</td>\n      <td>...</td>\n      <td>...</td>\n      <td>...</td>\n      <td>...</td>\n      <td>...</td>\n      <td>...</td>\n    </tr>\n    <tr>\n      <th>372769</th>\n      <td>40.6052</td>\n      <td>109.6865</td>\n      <td>304.4</td>\n      <td>1.0</td>\n      <td>1.0</td>\n      <td>2020-07-31</td>\n      <td>1847</td>\n      <td>Aqua</td>\n      <td>MODIS</td>\n      <td>60</td>\n      <td>6.03</td>\n      <td>290.9</td>\n      <td>6.3</td>\n      <td>N</td>\n      <td>2</td>\n    </tr>\n    <tr>\n      <th>372770</th>\n      <td>39.4083</td>\n      <td>110.6341</td>\n      <td>300.0</td>\n      <td>1.1</td>\n      <td>1.0</td>\n      <td>2020-07-31</td>\n      <td>1847</td>\n      <td>Aqua</td>\n      <td>MODIS</td>\n      <td>5</td>\n      <td>6.03</td>\n      <td>284.1</td>\n      <td>5.1</td>\n      <td>N</td>\n      <td>0</td>\n    </tr>\n    <tr>\n      <th>372771</th>\n      <td>39.3870</td>\n      <td>110.5909</td>\n      <td>300.1</td>\n      <td>1.1</td>\n      <td>1.0</td>\n      <td>2020-07-31</td>\n      <td>1847</td>\n      <td>Aqua</td>\n      <td>MODIS</td>\n      <td>15</td>\n      <td>6.03</td>\n      <td>285.9</td>\n      <td>4.9</td>\n      <td>N</td>\n      <td>0</td>\n    </tr>\n    <tr>\n      <th>372772</th>\n      <td>44.7340</td>\n      <td>90.2537</td>\n      <td>304.1</td>\n      <td>1.3</td>\n      <td>1.1</td>\n      <td>2020-07-31</td>\n      <td>2025</td>\n      <td>Aqua</td>\n      <td>MODIS</td>\n      <td>58</td>\n      <td>6.03</td>\n      <td>287.6</td>\n      <td>11.0</td>\n      <td>N</td>\n      <td>2</td>\n    </tr>\n    <tr>\n      <th>372773</th>\n      <td>44.7311</td>\n      <td>90.2693</td>\n      <td>307.0</td>\n      <td>1.3</td>\n      <td>1.1</td>\n      <td>2020-07-31</td>\n      <td>2025</td>\n      <td>Aqua</td>\n      <td>MODIS</td>\n      <td>70</td>\n      <td>6.03</td>\n      <td>288.1</td>\n      <td>13.5</td>\n      <td>N</td>\n      <td>2</td>\n    </tr>\n  </tbody>\n</table>\n<p>372774 rows × 15 columns</p>\n</div>"
     },
     "metadata": {},
     "execution_count": 15
    }
   ],
   "source": [
    "pd.read_csv(\"PM2.5_kaggle 2021/Fire hotspot/fire_archive_M6_163549.csv\")"
   ]
  },
  {
   "source": [
    "# Submission Example"
   ],
   "cell_type": "markdown",
   "metadata": {}
  },
  {
   "cell_type": "code",
   "execution_count": 13,
   "metadata": {},
   "outputs": [
    {
     "output_type": "execute_result",
     "data": {
      "text/plain": [
       "        station               index            Predicted  PM2.5\n",
       "0   Chanthaburi 2019-03-18 12:00:00  2019-03-18 13:00:00   33.5\n",
       "1           NaN                 NaT  2019-03-18 14:00:00   33.5\n",
       "2           NaN                 NaT  2019-03-18 15:00:00   35.2\n",
       "3           NaN                 NaT  2019-03-18 16:00:00   32.9\n",
       "4           NaN                 NaT  2019-03-18 17:00:00   30.5\n",
       "5           NaN                 NaT  2019-03-18 18:00:00   31.4\n",
       "6           NaN                 NaT  2019-03-18 19:00:00   32.8\n",
       "7           NaN                 NaT  2019-03-18 20:00:00   32.2\n",
       "8           NaN                 NaT  2019-03-18 21:00:00   30.7\n",
       "9           NaN                 NaT  2019-03-18 22:00:00   32.1\n",
       "10          NaN                 NaT  2019-03-18 23:00:00   31.3\n",
       "11          NaN                 NaT  2019-03-19 00:00:00   30.0\n",
       "12          NaN                 NaT  2019-03-19 01:00:00   30.0\n",
       "13          NaN                 NaT  2019-03-19 02:00:00   27.1\n",
       "14          NaN                 NaT  2019-03-19 03:00:00   24.9\n",
       "15          NaN                 NaT  2019-03-19 04:00:00   27.1\n",
       "16          NaN                 NaT  2019-03-19 05:00:00   26.6\n",
       "17          NaN                 NaT  2019-03-19 06:00:00   24.5\n",
       "18          NaN                 NaT  2019-03-19 07:00:00   25.5\n",
       "19          NaN                 NaT  2019-03-19 08:00:00   27.4"
      ],
      "text/html": "<div>\n<style scoped>\n    .dataframe tbody tr th:only-of-type {\n        vertical-align: middle;\n    }\n\n    .dataframe tbody tr th {\n        vertical-align: top;\n    }\n\n    .dataframe thead th {\n        text-align: right;\n    }\n</style>\n<table border=\"1\" class=\"dataframe\">\n  <thead>\n    <tr style=\"text-align: right;\">\n      <th></th>\n      <th>station</th>\n      <th>index</th>\n      <th>Predicted</th>\n      <th>PM2.5</th>\n    </tr>\n  </thead>\n  <tbody>\n    <tr>\n      <th>0</th>\n      <td>Chanthaburi</td>\n      <td>2019-03-18 12:00:00</td>\n      <td>2019-03-18 13:00:00</td>\n      <td>33.5</td>\n    </tr>\n    <tr>\n      <th>1</th>\n      <td>NaN</td>\n      <td>NaT</td>\n      <td>2019-03-18 14:00:00</td>\n      <td>33.5</td>\n    </tr>\n    <tr>\n      <th>2</th>\n      <td>NaN</td>\n      <td>NaT</td>\n      <td>2019-03-18 15:00:00</td>\n      <td>35.2</td>\n    </tr>\n    <tr>\n      <th>3</th>\n      <td>NaN</td>\n      <td>NaT</td>\n      <td>2019-03-18 16:00:00</td>\n      <td>32.9</td>\n    </tr>\n    <tr>\n      <th>4</th>\n      <td>NaN</td>\n      <td>NaT</td>\n      <td>2019-03-18 17:00:00</td>\n      <td>30.5</td>\n    </tr>\n    <tr>\n      <th>5</th>\n      <td>NaN</td>\n      <td>NaT</td>\n      <td>2019-03-18 18:00:00</td>\n      <td>31.4</td>\n    </tr>\n    <tr>\n      <th>6</th>\n      <td>NaN</td>\n      <td>NaT</td>\n      <td>2019-03-18 19:00:00</td>\n      <td>32.8</td>\n    </tr>\n    <tr>\n      <th>7</th>\n      <td>NaN</td>\n      <td>NaT</td>\n      <td>2019-03-18 20:00:00</td>\n      <td>32.2</td>\n    </tr>\n    <tr>\n      <th>8</th>\n      <td>NaN</td>\n      <td>NaT</td>\n      <td>2019-03-18 21:00:00</td>\n      <td>30.7</td>\n    </tr>\n    <tr>\n      <th>9</th>\n      <td>NaN</td>\n      <td>NaT</td>\n      <td>2019-03-18 22:00:00</td>\n      <td>32.1</td>\n    </tr>\n    <tr>\n      <th>10</th>\n      <td>NaN</td>\n      <td>NaT</td>\n      <td>2019-03-18 23:00:00</td>\n      <td>31.3</td>\n    </tr>\n    <tr>\n      <th>11</th>\n      <td>NaN</td>\n      <td>NaT</td>\n      <td>2019-03-19 00:00:00</td>\n      <td>30.0</td>\n    </tr>\n    <tr>\n      <th>12</th>\n      <td>NaN</td>\n      <td>NaT</td>\n      <td>2019-03-19 01:00:00</td>\n      <td>30.0</td>\n    </tr>\n    <tr>\n      <th>13</th>\n      <td>NaN</td>\n      <td>NaT</td>\n      <td>2019-03-19 02:00:00</td>\n      <td>27.1</td>\n    </tr>\n    <tr>\n      <th>14</th>\n      <td>NaN</td>\n      <td>NaT</td>\n      <td>2019-03-19 03:00:00</td>\n      <td>24.9</td>\n    </tr>\n    <tr>\n      <th>15</th>\n      <td>NaN</td>\n      <td>NaT</td>\n      <td>2019-03-19 04:00:00</td>\n      <td>27.1</td>\n    </tr>\n    <tr>\n      <th>16</th>\n      <td>NaN</td>\n      <td>NaT</td>\n      <td>2019-03-19 05:00:00</td>\n      <td>26.6</td>\n    </tr>\n    <tr>\n      <th>17</th>\n      <td>NaN</td>\n      <td>NaT</td>\n      <td>2019-03-19 06:00:00</td>\n      <td>24.5</td>\n    </tr>\n    <tr>\n      <th>18</th>\n      <td>NaN</td>\n      <td>NaT</td>\n      <td>2019-03-19 07:00:00</td>\n      <td>25.5</td>\n    </tr>\n    <tr>\n      <th>19</th>\n      <td>NaN</td>\n      <td>NaT</td>\n      <td>2019-03-19 08:00:00</td>\n      <td>27.4</td>\n    </tr>\n  </tbody>\n</table>\n</div>"
     },
     "metadata": {},
     "execution_count": 13
    }
   ],
   "source": [
    "pd.read_excel(\"PM2.5_kaggle 2021/submission_example_Chanthaburi_3days.xlsx\").head(20)"
   ]
  },
  {
   "cell_type": "code",
   "execution_count": 14,
   "metadata": {},
   "outputs": [
    {
     "output_type": "execute_result",
     "data": {
      "text/plain": [
       "    Id  Expected\n",
       "0    1     34.71\n",
       "1    2     33.97\n",
       "2    3     36.97\n",
       "3    4     33.82\n",
       "4    5     32.14\n",
       "5    6     32.35\n",
       "6    7     33.33\n",
       "7    8     33.39\n",
       "8    9     32.05\n",
       "9   10     33.36\n",
       "10  11     32.44\n",
       "11  12     30.87\n",
       "12  13     30.54\n",
       "13  14     28.37\n",
       "14  15     26.74\n",
       "15  16     28.23\n",
       "16  17     27.85\n",
       "17  18     25.13\n",
       "18  19     26.55\n",
       "19  20     29.07"
      ],
      "text/html": "<div>\n<style scoped>\n    .dataframe tbody tr th:only-of-type {\n        vertical-align: middle;\n    }\n\n    .dataframe tbody tr th {\n        vertical-align: top;\n    }\n\n    .dataframe thead th {\n        text-align: right;\n    }\n</style>\n<table border=\"1\" class=\"dataframe\">\n  <thead>\n    <tr style=\"text-align: right;\">\n      <th></th>\n      <th>Id</th>\n      <th>Expected</th>\n    </tr>\n  </thead>\n  <tbody>\n    <tr>\n      <th>0</th>\n      <td>1</td>\n      <td>34.71</td>\n    </tr>\n    <tr>\n      <th>1</th>\n      <td>2</td>\n      <td>33.97</td>\n    </tr>\n    <tr>\n      <th>2</th>\n      <td>3</td>\n      <td>36.97</td>\n    </tr>\n    <tr>\n      <th>3</th>\n      <td>4</td>\n      <td>33.82</td>\n    </tr>\n    <tr>\n      <th>4</th>\n      <td>5</td>\n      <td>32.14</td>\n    </tr>\n    <tr>\n      <th>5</th>\n      <td>6</td>\n      <td>32.35</td>\n    </tr>\n    <tr>\n      <th>6</th>\n      <td>7</td>\n      <td>33.33</td>\n    </tr>\n    <tr>\n      <th>7</th>\n      <td>8</td>\n      <td>33.39</td>\n    </tr>\n    <tr>\n      <th>8</th>\n      <td>9</td>\n      <td>32.05</td>\n    </tr>\n    <tr>\n      <th>9</th>\n      <td>10</td>\n      <td>33.36</td>\n    </tr>\n    <tr>\n      <th>10</th>\n      <td>11</td>\n      <td>32.44</td>\n    </tr>\n    <tr>\n      <th>11</th>\n      <td>12</td>\n      <td>30.87</td>\n    </tr>\n    <tr>\n      <th>12</th>\n      <td>13</td>\n      <td>30.54</td>\n    </tr>\n    <tr>\n      <th>13</th>\n      <td>14</td>\n      <td>28.37</td>\n    </tr>\n    <tr>\n      <th>14</th>\n      <td>15</td>\n      <td>26.74</td>\n    </tr>\n    <tr>\n      <th>15</th>\n      <td>16</td>\n      <td>28.23</td>\n    </tr>\n    <tr>\n      <th>16</th>\n      <td>17</td>\n      <td>27.85</td>\n    </tr>\n    <tr>\n      <th>17</th>\n      <td>18</td>\n      <td>25.13</td>\n    </tr>\n    <tr>\n      <th>18</th>\n      <td>19</td>\n      <td>26.55</td>\n    </tr>\n    <tr>\n      <th>19</th>\n      <td>20</td>\n      <td>29.07</td>\n    </tr>\n  </tbody>\n</table>\n</div>"
     },
     "metadata": {},
     "execution_count": 14
    }
   ],
   "source": [
    "pd.read_csv(\"PM2.5_kaggle 2021/submission_example_Kaggle.csv\").head(20)"
   ]
  },
  {
   "cell_type": "code",
   "execution_count": null,
   "metadata": {},
   "outputs": [],
   "source": []
  }
 ]
}