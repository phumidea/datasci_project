{
 "metadata": {
  "language_info": {
   "codemirror_mode": {
    "name": "ipython",
    "version": 3
   },
   "file_extension": ".py",
   "mimetype": "text/x-python",
   "name": "python",
   "nbconvert_exporter": "python",
   "pygments_lexer": "ipython3",
   "version": "3.8.5"
  },
  "orig_nbformat": 2,
  "kernelspec": {
   "name": "python385jvsc74a57bd04f88000c8533031533e72db95377eafe47e62948e92f30427c766512767d20f6",
   "display_name": "Python 3.8.5 64-bit ('base': conda)"
  },
  "metadata": {
   "interpreter": {
    "hash": "4f88000c8533031533e72db95377eafe47e62948e92f30427c766512767d20f6"
   }
  }
 },
 "nbformat": 4,
 "nbformat_minor": 2,
 "cells": [
  {
   "source": [
    "# Read City text file"
   ],
   "cell_type": "markdown",
   "metadata": {}
  },
  {
   "cell_type": "code",
   "execution_count": 119,
   "metadata": {},
   "outputs": [],
   "source": [
    "def show_text(fileName, n_line):\n",
    "    f = open(fileName, \"r\")\n",
    "    for i in range(n_line):\n",
    "        print(f.readline())\n",
    "    f.close()"
   ]
  },
  {
   "cell_type": "code",
   "execution_count": 121,
   "metadata": {},
   "outputs": [
    {
     "output_type": "stream",
     "name": "stdout",
     "text": [
      "% Country: Thailand\n\n% City: Bangkok\n\n% City (ASCII): Bangkok\n\n% Region: Bangkok\n\n% Region (ASCII): Bangkok\n\n% Population: 5104476\n\n% Latitude: 13.754\n\n% Longitude: 100.5014\n\n% Time Zone: Asia/Bangkok\n\n% Year, Month, Day, UTC Hour, PM2.5, PM10_mask, Retrospective\n\n2016\t3\t3\t8\t62.9\t1.00\t0\n\n2016\t3\t3\t9\t62.9\t1.00\t0\n\n2016\t3\t3\t10\t55.5\t1.00\t0\n\n2016\t3\t3\t11\t55.5\t1.00\t0\n\n2016\t3\t3\t12\t47.9\t1.00\t0\n\n2016\t3\t3\t13\t43.6\t1.00\t0\n\n2016\t3\t3\t14\t28.6\t1.00\t0\n\n2016\t3\t3\t15\t33.6\t1.00\t0\n\n2016\t3\t3\t16\t34.8\t1.00\t0\n\n2016\t3\t3\t17\t31.3\t1.00\t0\n\n"
     ]
    }
   ],
   "source": [
    "show_text(\"PM2.5_kaggle 2021/Bangkok/Train/Bangkok.txt\",20)"
   ]
  },
  {
   "cell_type": "code",
   "execution_count": 44,
   "metadata": {},
   "outputs": [
    {
     "output_type": "stream",
     "name": "stdout",
     "text": [
      "% City: Chanthaburi\n\n% Region: Chanthaburi\n\n% Population: 99819\n\n% Longitude: 102.1045\n\n% Year, Month, Day, UTC Hour, PM2.5, PM10_mask, Retrospective\n\n2016\t3\t3\t9\t44.2\t1.00\t0\n\n2016\t3\t3\t11\t44.2\t1.00\t0\n\n2016\t3\t3\t13\t34.6\t1.00\t0\n\n2016\t3\t3\t15\t31.6\t1.00\t0\n\n2016\t3\t3\t17\t45.5\t1.00\t0\n\n"
     ]
    }
   ],
   "source": [
    "show_text(\"PM2.5_kaggle 2021/Chanthaburi/Train/Chanthaburi.txt\",10)"
   ]
  },
  {
   "source": [
    "# Convert text to Dataframe"
   ],
   "cell_type": "markdown",
   "metadata": {}
  },
  {
   "cell_type": "code",
   "execution_count": 45,
   "metadata": {},
   "outputs": [],
   "source": [
    "import numpy as np\n",
    "import pandas as pd"
   ]
  },
  {
   "cell_type": "code",
   "execution_count": 107,
   "metadata": {},
   "outputs": [],
   "source": [
    "def txt_to_df(fileName):\n",
    "    f = open(fileName,\"r\")\n",
    "    count = 0\n",
    "    for line in f:\n",
    "        tmp = f.readline()\n",
    "        if count == 9:\n",
    "            header = tmp[2:].split(\", \")\n",
    "            pd.DataFrame(columns = header)\n",
    "        elif count > 9:\n",
    "            data = tmp.split()\n",
    "            break\n",
    "    f.close()"
   ]
  },
  {
   "cell_type": "code",
   "execution_count": 108,
   "metadata": {},
   "outputs": [
    {
     "output_type": "stream",
     "name": "stdout",
     "text": [
      "% Country: Thailand\n\n% City: Bangkok\n\n% City (ASCII): Bangkok\n\n% Region: Bangkok\n\n% Region (ASCII): Bangkok\n\n% Population: 5104476\n\n% Latitude: 13.754\n\n% Longitude: 100.5014\n\n% Time Zone: Asia/Bangkok\n\n% Year, Month, Day, UTC Hour, PM2.5, PM10_mask, Retrospective\n\n2016\t3\t3\t8\t62.9\t1.00\t0\n\n2016\t3\t3\t9\t62.9\t1.00\t0\n\n2016\t3\t3\t10\t55.5\t1.00\t0\n\n2016\t3\t3\t11\t55.5\t1.00\t0\n\n2016\t3\t3\t12\t47.9\t1.00\t0\n\n2016\t3\t3\t13\t43.6\t1.00\t0\n\n2016\t3\t3\t14\t28.6\t1.00\t0\n\n2016\t3\t3\t15\t33.6\t1.00\t0\n\n2016\t3\t3\t16\t34.8\t1.00\t0\n\n2016\t3\t3\t17\t31.3\t1.00\t0\n\n"
     ]
    }
   ],
   "source": [
    "txt_to_df(\"PM2.5_kaggle 2021/Bangkok/Train/Bangkok.txt\")"
   ]
  },
  {
   "cell_type": "code",
   "execution_count": 93,
   "metadata": {},
   "outputs": [
    {
     "output_type": "error",
     "ename": "NameError",
     "evalue": "name 'output' is not defined",
     "traceback": [
      "\u001b[0;31m---------------------------------------------------------------------------\u001b[0m",
      "\u001b[0;31mNameError\u001b[0m                                 Traceback (most recent call last)",
      "\u001b[0;32m<ipython-input-93-61353e8b2d5a>\u001b[0m in \u001b[0;36m<module>\u001b[0;34m\u001b[0m\n\u001b[0;32m----> 1\u001b[0;31m \u001b[0moutput\u001b[0m\u001b[0;34m\u001b[0m\u001b[0;34m\u001b[0m\u001b[0m\n\u001b[0m",
      "\u001b[0;31mNameError\u001b[0m: name 'output' is not defined"
     ]
    }
   ],
   "source": [
    "output"
   ]
  },
  {
   "cell_type": "code",
   "execution_count": null,
   "metadata": {},
   "outputs": [],
   "source": []
  }
 ]
}