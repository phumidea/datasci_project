{
 "metadata": {
  "language_info": {
   "codemirror_mode": {
    "name": "ipython",
    "version": 3
   },
   "file_extension": ".py",
   "mimetype": "text/x-python",
   "name": "python",
   "nbconvert_exporter": "python",
   "pygments_lexer": "ipython3",
   "version": "3.8.5"
  },
  "orig_nbformat": 2,
  "kernelspec": {
   "name": "python385jvsc74a57bd04f88000c8533031533e72db95377eafe47e62948e92f30427c766512767d20f6",
   "display_name": "Python 3.8.5 64-bit ('base': conda)"
  },
  "metadata": {
   "interpreter": {
    "hash": "4f88000c8533031533e72db95377eafe47e62948e92f30427c766512767d20f6"
   }
  }
 },
 "nbformat": 4,
 "nbformat_minor": 2,
 "cells": [
  {
   "source": [
    "# Read City text file"
   ],
   "cell_type": "markdown",
   "metadata": {}
  },
  {
   "cell_type": "code",
   "execution_count": 119,
   "metadata": {},
   "outputs": [],
   "source": [
    "def show_text(fileName, n_line):\n",
    "    f = open(fileName, \"r\")\n",
    "    for i in range(n_line):\n",
    "        print(f.readline())\n",
    "    f.close()"
   ]
  },
  {
   "cell_type": "code",
   "execution_count": 129,
   "metadata": {},
   "outputs": [
    {
     "output_type": "stream",
     "name": "stdout",
     "text": [
      "% Country: Thailand\n\n% City: Bangkok\n\n% City (ASCII): Bangkok\n\n% Region: Bangkok\n\n% Region (ASCII): Bangkok\n\n% Population: 5104476\n\n% Latitude: 13.754\n\n% Longitude: 100.5014\n\n% Time Zone: Asia/Bangkok\n\n% Year, Month, Day, UTC Hour, PM2.5, PM10_mask, Retrospective\n\n2016\t3\t3\t8\t62.9\t1.00\t0\n\n2016\t3\t3\t9\t62.9\t1.00\t0\n\n2016\t3\t3\t10\t55.5\t1.00\t0\n\n2016\t3\t3\t11\t55.5\t1.00\t0\n\n2016\t3\t3\t12\t47.9\t1.00\t0\n\n2016\t3\t3\t13\t43.6\t1.00\t0\n\n2016\t3\t3\t14\t28.6\t1.00\t0\n\n2016\t3\t3\t15\t33.6\t1.00\t0\n\n2016\t3\t3\t16\t34.8\t1.00\t0\n\n2016\t3\t3\t17\t31.3\t1.00\t0\n\n2016\t3\t3\t19\t42.1\t1.00\t0\n\n2016\t3\t3\t20\t38.6\t1.00\t0\n\n2016\t3\t3\t21\t45.5\t1.00\t0\n\n2016\t3\t3\t22\t49.9\t1.00\t0\n\n2016\t3\t3\t23\t44.1\t1.00\t0\n\n2016\t3\t4\t0\t42.1\t1.00\t0\n\n2016\t3\t4\t1\t43.1\t1.00\t0\n\n2016\t3\t4\t2\t44.8\t1.00\t0\n\n2016\t3\t4\t3\t37.5\t1.00\t0\n\n2016\t3\t4\t4\t39.6\t1.00\t0\n\n2016\t3\t4\t5\t46.0\t1.00\t0\n\n2016\t3\t4\t6\t43.8\t1.00\t0\n\n2016\t3\t4\t7\t36.6\t1.00\t0\n\n2016\t3\t4\t8\t34.2\t1.00\t0\n\n2016\t3\t4\t9\t35.0\t1.00\t0\n\n2016\t3\t4\t10\t30.0\t1.00\t0\n\n2016\t3\t4\t11\t25.6\t1.00\t0\n\n2016\t3\t4\t12\t32.1\t1.00\t0\n\n2016\t3\t4\t13\t24.4\t1.00\t0\n\n2016\t3\t4\t14\t32.8\t1.00\t0\n\n"
     ]
    }
   ],
   "source": [
    "show_text(\"PM2.5_kaggle 2021/Bangkok/Train/Bangkok.txt\",40)"
   ]
  },
  {
   "cell_type": "code",
   "execution_count": 44,
   "metadata": {},
   "outputs": [
    {
     "output_type": "stream",
     "name": "stdout",
     "text": [
      "% City: Chanthaburi\n\n% Region: Chanthaburi\n\n% Population: 99819\n\n% Longitude: 102.1045\n\n% Year, Month, Day, UTC Hour, PM2.5, PM10_mask, Retrospective\n\n2016\t3\t3\t9\t44.2\t1.00\t0\n\n2016\t3\t3\t11\t44.2\t1.00\t0\n\n2016\t3\t3\t13\t34.6\t1.00\t0\n\n2016\t3\t3\t15\t31.6\t1.00\t0\n\n2016\t3\t3\t17\t45.5\t1.00\t0\n\n"
     ]
    }
   ],
   "source": [
    "show_text(\"PM2.5_kaggle 2021/Chanthaburi/Train/Chanthaburi.txt\",10)"
   ]
  },
  {
   "source": [
    "# Convert text to Dataframe"
   ],
   "cell_type": "markdown",
   "metadata": {}
  },
  {
   "cell_type": "code",
   "execution_count": 45,
   "metadata": {},
   "outputs": [],
   "source": [
    "import numpy as np\n",
    "import pandas as pd"
   ]
  },
  {
   "cell_type": "code",
   "execution_count": 174,
   "metadata": {},
   "outputs": [],
   "source": [
    "def txt_to_df(fileName):\n",
    "    f = open(fileName,\"r\")\n",
    "    count = 0\n",
    "    for line in f:\n",
    "        tmp = line\n",
    "        if count == 9:\n",
    "            header = tmp[2:].split(\", \")\n",
    "            header[-1] = header[-1][:-1]\n",
    "            df = pd.DataFrame(columns = header)\n",
    "        elif count > 9:\n",
    "            data = tmp.split()\n",
    "            data_df = pd.DataFrame([data], columns = header)\n",
    "            df = df.append(data_df)\n",
    "        count += 1\n",
    "    f.close()\n",
    "    return df"
   ]
  },
  {
   "cell_type": "code",
   "execution_count": 175,
   "metadata": {},
   "outputs": [],
   "source": [
    "df = txt_to_df(\"PM2.5_kaggle 2021/Bangkok/Train/Bangkok.txt\")"
   ]
  },
  {
   "cell_type": "code",
   "execution_count": 177,
   "metadata": {},
   "outputs": [
    {
     "output_type": "execute_result",
     "data": {
      "text/plain": [
       "   Year Month Day UTC Hour PM2.5 PM10_mask Retrospective\n",
       "0  2016     3   3        8  62.9      1.00             0\n",
       "0  2016     3   3        9  62.9      1.00             0\n",
       "0  2016     3   3       10  55.5      1.00             0\n",
       "0  2016     3   3       11  55.5      1.00             0\n",
       "0  2016     3   3       12  47.9      1.00             0\n",
       "0  2016     3   3       13  43.6      1.00             0\n",
       "0  2016     3   3       14  28.6      1.00             0\n",
       "0  2016     3   3       15  33.6      1.00             0\n",
       "0  2016     3   3       16  34.8      1.00             0\n",
       "0  2016     3   3       17  31.3      1.00             0\n",
       "0  2016     3   3       19  42.1      1.00             0\n",
       "0  2016     3   3       20  38.6      1.00             0\n",
       "0  2016     3   3       21  45.5      1.00             0\n",
       "0  2016     3   3       22  49.9      1.00             0\n",
       "0  2016     3   3       23  44.1      1.00             0\n",
       "0  2016     3   4        0  42.1      1.00             0\n",
       "0  2016     3   4        1  43.1      1.00             0\n",
       "0  2016     3   4        2  44.8      1.00             0\n",
       "0  2016     3   4        3  37.5      1.00             0\n",
       "0  2016     3   4        4  39.6      1.00             0"
      ],
      "text/html": "<div>\n<style scoped>\n    .dataframe tbody tr th:only-of-type {\n        vertical-align: middle;\n    }\n\n    .dataframe tbody tr th {\n        vertical-align: top;\n    }\n\n    .dataframe thead th {\n        text-align: right;\n    }\n</style>\n<table border=\"1\" class=\"dataframe\">\n  <thead>\n    <tr style=\"text-align: right;\">\n      <th></th>\n      <th>Year</th>\n      <th>Month</th>\n      <th>Day</th>\n      <th>UTC Hour</th>\n      <th>PM2.5</th>\n      <th>PM10_mask</th>\n      <th>Retrospective</th>\n    </tr>\n  </thead>\n  <tbody>\n    <tr>\n      <th>0</th>\n      <td>2016</td>\n      <td>3</td>\n      <td>3</td>\n      <td>8</td>\n      <td>62.9</td>\n      <td>1.00</td>\n      <td>0</td>\n    </tr>\n    <tr>\n      <th>0</th>\n      <td>2016</td>\n      <td>3</td>\n      <td>3</td>\n      <td>9</td>\n      <td>62.9</td>\n      <td>1.00</td>\n      <td>0</td>\n    </tr>\n    <tr>\n      <th>0</th>\n      <td>2016</td>\n      <td>3</td>\n      <td>3</td>\n      <td>10</td>\n      <td>55.5</td>\n      <td>1.00</td>\n      <td>0</td>\n    </tr>\n    <tr>\n      <th>0</th>\n      <td>2016</td>\n      <td>3</td>\n      <td>3</td>\n      <td>11</td>\n      <td>55.5</td>\n      <td>1.00</td>\n      <td>0</td>\n    </tr>\n    <tr>\n      <th>0</th>\n      <td>2016</td>\n      <td>3</td>\n      <td>3</td>\n      <td>12</td>\n      <td>47.9</td>\n      <td>1.00</td>\n      <td>0</td>\n    </tr>\n    <tr>\n      <th>0</th>\n      <td>2016</td>\n      <td>3</td>\n      <td>3</td>\n      <td>13</td>\n      <td>43.6</td>\n      <td>1.00</td>\n      <td>0</td>\n    </tr>\n    <tr>\n      <th>0</th>\n      <td>2016</td>\n      <td>3</td>\n      <td>3</td>\n      <td>14</td>\n      <td>28.6</td>\n      <td>1.00</td>\n      <td>0</td>\n    </tr>\n    <tr>\n      <th>0</th>\n      <td>2016</td>\n      <td>3</td>\n      <td>3</td>\n      <td>15</td>\n      <td>33.6</td>\n      <td>1.00</td>\n      <td>0</td>\n    </tr>\n    <tr>\n      <th>0</th>\n      <td>2016</td>\n      <td>3</td>\n      <td>3</td>\n      <td>16</td>\n      <td>34.8</td>\n      <td>1.00</td>\n      <td>0</td>\n    </tr>\n    <tr>\n      <th>0</th>\n      <td>2016</td>\n      <td>3</td>\n      <td>3</td>\n      <td>17</td>\n      <td>31.3</td>\n      <td>1.00</td>\n      <td>0</td>\n    </tr>\n    <tr>\n      <th>0</th>\n      <td>2016</td>\n      <td>3</td>\n      <td>3</td>\n      <td>19</td>\n      <td>42.1</td>\n      <td>1.00</td>\n      <td>0</td>\n    </tr>\n    <tr>\n      <th>0</th>\n      <td>2016</td>\n      <td>3</td>\n      <td>3</td>\n      <td>20</td>\n      <td>38.6</td>\n      <td>1.00</td>\n      <td>0</td>\n    </tr>\n    <tr>\n      <th>0</th>\n      <td>2016</td>\n      <td>3</td>\n      <td>3</td>\n      <td>21</td>\n      <td>45.5</td>\n      <td>1.00</td>\n      <td>0</td>\n    </tr>\n    <tr>\n      <th>0</th>\n      <td>2016</td>\n      <td>3</td>\n      <td>3</td>\n      <td>22</td>\n      <td>49.9</td>\n      <td>1.00</td>\n      <td>0</td>\n    </tr>\n    <tr>\n      <th>0</th>\n      <td>2016</td>\n      <td>3</td>\n      <td>3</td>\n      <td>23</td>\n      <td>44.1</td>\n      <td>1.00</td>\n      <td>0</td>\n    </tr>\n    <tr>\n      <th>0</th>\n      <td>2016</td>\n      <td>3</td>\n      <td>4</td>\n      <td>0</td>\n      <td>42.1</td>\n      <td>1.00</td>\n      <td>0</td>\n    </tr>\n    <tr>\n      <th>0</th>\n      <td>2016</td>\n      <td>3</td>\n      <td>4</td>\n      <td>1</td>\n      <td>43.1</td>\n      <td>1.00</td>\n      <td>0</td>\n    </tr>\n    <tr>\n      <th>0</th>\n      <td>2016</td>\n      <td>3</td>\n      <td>4</td>\n      <td>2</td>\n      <td>44.8</td>\n      <td>1.00</td>\n      <td>0</td>\n    </tr>\n    <tr>\n      <th>0</th>\n      <td>2016</td>\n      <td>3</td>\n      <td>4</td>\n      <td>3</td>\n      <td>37.5</td>\n      <td>1.00</td>\n      <td>0</td>\n    </tr>\n    <tr>\n      <th>0</th>\n      <td>2016</td>\n      <td>3</td>\n      <td>4</td>\n      <td>4</td>\n      <td>39.6</td>\n      <td>1.00</td>\n      <td>0</td>\n    </tr>\n  </tbody>\n</table>\n</div>"
     },
     "metadata": {},
     "execution_count": 177
    }
   ],
   "source": [
    "df.head(20)"
   ]
  },
  {
   "cell_type": "code",
   "execution_count": null,
   "metadata": {},
   "outputs": [],
   "source": []
  }
 ]
}